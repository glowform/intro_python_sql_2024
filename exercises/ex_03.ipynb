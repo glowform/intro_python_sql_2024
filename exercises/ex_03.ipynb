{
 "cells": [
  {
   "cell_type": "markdown",
   "metadata": {},
   "source": [
    "# Functions\n",
    "* Write and test a function, which takes length of the base and height of a triangle and returns its area.\n",
    "* Write a function with two arguments, which returns perimeter and area of a regular polygon, with a number and length of edges as arguments."
   ]
  },
  {
   "cell_type": "code",
   "execution_count": null,
   "metadata": {
    "collapsed": true
   },
   "outputs": [],
   "source": [
    "\n",
    "\n",
    "\n"
   ]
  },
  {
   "cell_type": "markdown",
   "metadata": {},
   "source": [
    "* Write and test a function, which returns a lambda function according to the chosen unit (\"F\" or \"C\"). It should calculate, how much energy is needed to raise the temperature of one kilogram of water by one degree (specific heat of water equals 4189,9 J/(kg\\*K)). Remember to take into account these cases, where the argument is wrong (return False or a default value)."
   ]
  },
  {
   "cell_type": "code",
   "execution_count": null,
   "metadata": {
    "collapsed": true
   },
   "outputs": [],
   "source": [
    "\n",
    "\n",
    "\n"
   ]
  },
  {
   "cell_type": "markdown",
   "metadata": {},
   "source": [
    "* Write a function which is an English-Polish translator of lists. Function should have optional argument \"inplace = False\". If inplace is True, function should translate words inside the list passed as an argument. If it is not True, a new list should be returned. Think about the proper solution for words not in the dictionary."
   ]
  },
  {
   "cell_type": "code",
   "execution_count": null,
   "metadata": {
    "collapsed": true
   },
   "outputs": [],
   "source": [
    "enPl = {'have':'mieć', 'which':'który', 'make':'robić', 'can':'potrafić', 'know':'wiedzieć', 'take':'brać', 'people':'ludzie', 'year':'rok', 'good':'dobry', 'bad':'zły', 'look':'patrzeć' }\n",
    "toTranslate = ['good', 'look', 'make', 'can', 'year', 'becasue', 'mastermidn', 'have']\n",
    "\n",
    "\n"
   ]
  },
  {
   "cell_type": "markdown",
   "metadata": {},
   "source": [
    "Profile your translator function using both %timeit and %prun."
   ]
  },
  {
   "cell_type": "markdown",
   "metadata": {},
   "source": [
    "* Write a FizzBuzz function. This function should print consecutive numbers from 1 to 50. If the number is divisible by 3 it should print \"Fizz\" instead of the number, if it is divisible by 5, \"Buzz\" should be printed."
   ]
  },
  {
   "cell_type": "code",
   "execution_count": null,
   "metadata": {
    "collapsed": true
   },
   "outputs": [],
   "source": []
  },
  {
   "cell_type": "markdown",
   "metadata": {},
   "source": [
    "* Modify the function above so that it would take arguments \"k\" and \"l\" instead of numbers 3 and 5."
   ]
  },
  {
   "cell_type": "code",
   "execution_count": null,
   "metadata": {
    "collapsed": true
   },
   "outputs": [],
   "source": []
  },
  {
   "cell_type": "markdown",
   "metadata": {
    "collapsed": true
   },
   "source": [
    "# Objects\n",
    "* Create a \"person\" object with the following attributes: name, surname, age, gender, height, email.\n",
    "* Creating an object should require name, surname and email; other attributes are optional.\n",
    "* The \"person\" objects should have methods allowing for:\n",
    "    * Setting a value for gender, height and age.\n",
    "    * Calculating BMI if the required values are filled in; if not - print a message which tells the user to input these values."
   ]
  },
  {
   "cell_type": "code",
   "execution_count": null,
   "metadata": {
    "collapsed": true
   },
   "outputs": [],
   "source": []
  }
 ],
 "metadata": {
  "kernelspec": {
   "display_name": "Python 3",
   "language": "python",
   "name": "python3"
  },
  "language_info": {
   "codemirror_mode": {
    "name": "ipython",
    "version": 3
   },
   "file_extension": ".py",
   "mimetype": "text/x-python",
   "name": "python",
   "nbconvert_exporter": "python",
   "pygments_lexer": "ipython3",
   "version": "3.6.2"
  }
 },
 "nbformat": 4,
 "nbformat_minor": 2
}
