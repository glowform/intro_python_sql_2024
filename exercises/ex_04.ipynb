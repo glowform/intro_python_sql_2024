{
 "cells": [
  {
   "cell_type": "markdown",
   "metadata": {
    "deletable": true,
    "editable": true
   },
   "source": [
    "# Numpy - exercises\n",
    "## Creating objects\n",
    "Create the following objects:\n",
    "* 10-element, 0-dimensional vector of zeros.\n",
    "* 8-element, 1-dimensional vector of ones.\n",
    "* 12-element matrix filled with numbers from 2 to 14.\n",
    "* just as above, but make sure that the numbers are integers."
   ]
  },
  {
   "cell_type": "code",
   "execution_count": null,
   "metadata": {
    "collapsed": true,
    "deletable": true,
    "editable": true
   },
   "outputs": [],
   "source": [
    "\n",
    "\n"
   ]
  },
  {
   "cell_type": "markdown",
   "metadata": {
    "deletable": true,
    "editable": true
   },
   "source": [
    "Create the following objects:\n",
    "* Matrix of dimensions 4,5 filled with random numbers from distribution U~[0,1)\n",
    "* Matrix of dimensions 3,6 filled with random numbers from distribution N~(0,1)\n",
    "* Matrix of dimensions 2,5,6 filled with random numbers from beta distribution (0.5, 0.5)"
   ]
  },
  {
   "cell_type": "code",
   "execution_count": null,
   "metadata": {
    "collapsed": true,
    "deletable": true,
    "editable": true
   },
   "outputs": [],
   "source": [
    "\n",
    "\n"
   ]
  },
  {
   "cell_type": "markdown",
   "metadata": {
    "deletable": true,
    "editable": true
   },
   "source": [
    "Transform the last matrix from the previous cell:\n",
    "* Change its dimension to (x, 6) in such a way that numpy infers x.\n",
    "* Split it to two halves vertically.\n",
    "* Split one of the halves horizotally, so you get two quarters (A and B)\n",
    "* Transform A to a one- and two-dimensional vector in two ways (in both cases): without copying and with copying.\n",
    "* Transform A and B to shape (x, 2) and concatenate them vertically and horizontally."
   ]
  },
  {
   "cell_type": "code",
   "execution_count": null,
   "metadata": {
    "collapsed": true,
    "deletable": true,
    "editable": true
   },
   "outputs": [],
   "source": [
    "\n",
    "\n"
   ]
  },
  {
   "cell_type": "markdown",
   "metadata": {
    "deletable": true,
    "editable": true
   },
   "source": [
    "Sort the last matrix in four different ways (by rows/by columns, ascending/descending)."
   ]
  },
  {
   "cell_type": "code",
   "execution_count": null,
   "metadata": {
    "collapsed": true,
    "deletable": true,
    "editable": true
   },
   "outputs": [],
   "source": [
    "\n",
    "\n"
   ]
  },
  {
   "cell_type": "markdown",
   "metadata": {
    "deletable": true,
    "editable": true
   },
   "source": [
    "Implement two-dimenstional Rosenbrock function (https://en.wikipedia.org/wiki/Rosenbrock_function) in two ways: using np.apply_along_axis and for loop.\n",
    "Compare how fast the two implementations are."
   ]
  },
  {
   "cell_type": "code",
   "execution_count": null,
   "metadata": {
    "collapsed": true,
    "deletable": true,
    "editable": true
   },
   "outputs": [],
   "source": [
    "x = random.normal(size=(10000, 2))\n",
    "\n"
   ]
  }
 ],
 "metadata": {
  "kernelspec": {
   "display_name": "Python 3",
   "language": "python",
   "name": "python3"
  },
  "language_info": {
   "codemirror_mode": {
    "name": "ipython",
    "version": 3
   },
   "file_extension": ".py",
   "mimetype": "text/x-python",
   "name": "python",
   "nbconvert_exporter": "python",
   "pygments_lexer": "ipython3",
   "version": "3.6.2"
  }
 },
 "nbformat": 4,
 "nbformat_minor": 2
}
