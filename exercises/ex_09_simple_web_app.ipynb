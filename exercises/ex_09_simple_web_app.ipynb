{
 "cells": [
  {
   "cell_type": "markdown",
   "metadata": {},
   "source": [
    "## Building a Simple Web Application with Bottle\n",
    "\n",
    "Objective: Create a basic web application using the Bottle framework in Python. This application will display a welcome message and the current time on a web page.\n",
    "\n",
    "Install Bottle: If Bottle is not installed, use pip to install it"
   ]
  },
  {
   "cell_type": "code",
   "execution_count": null,
   "metadata": {},
   "outputs": [],
   "source": [
    "pip install bottle ## in the console/terminal/bash"
   ]
  },
  {
   "cell_type": "markdown",
   "metadata": {},
   "source": [
    "**Import Bottle**\n",
    "\n",
    "Write a Python script and start by importing the Bottle class from the bottle module.\n",
    "\n",
    "**Create an Instance of Bottle**\n",
    "\n",
    "Create an instance of the Bottle class. This instance represents your web application.\n",
    "\n",
    "**Define Routes and Views**\n",
    "\n",
    "Define a route for the root URL ('/'). A route is a URL pattern that is used to map a function to a URL.\n",
    "\n",
    "Create a view function that will be executed when the root URL is accessed. This function should return a string that includes a welcome message and the current time.\n",
    "\n",
    "**Run the Application**\n",
    "\n",
    "Use the run method of the Bottle instance to run your application. Set parameters like host and port as needed.\n",
    "\n",
    "**Test the Application**\n",
    "\n",
    "After running the script, open a web browser and go to http://localhost:8080/ (or the respective host and port you set) to see the application in action."
   ]
  },
  {
   "cell_type": "code",
   "execution_count": null,
   "metadata": {},
   "outputs": [],
   "source": []
  },
  {
   "cell_type": "markdown",
   "metadata": {},
   "source": [
    "\n",
    "**Modify the welcome message to something of your choice.**\n",
    "\n",
    "**Experiment by adding more routes and corresponding view functions. For example, create a new route like '/about' that displays information about the web application or its developer.**\n"
   ]
  },
  {
   "cell_type": "code",
   "execution_count": null,
   "metadata": {},
   "outputs": [],
   "source": []
  },
  {
   "cell_type": "markdown",
   "metadata": {},
   "source": [
    "**Create a page with a form where users can enter their name. When the form is submitted, display a personalized greeting on a new page.**\n",
    "\n",
    "Create a new route (e.g., /greet) that renders an HTML form with a text input for the user's name and a submit button.\n",
    "\n",
    "Create a second route (e.g., /greet_user) to handle the POST request from the form. Extract the user's name from the form data and display a personalized greeting."
   ]
  },
  {
   "cell_type": "code",
   "execution_count": null,
   "metadata": {},
   "outputs": [],
   "source": []
  },
  {
   "cell_type": "markdown",
   "metadata": {},
   "source": [
    "**Modify the application to use Bottle's template engine for rendering HTML content.**\n",
    "\n",
    "Create a template file for the greeting form and another for the personalized greeting.\n",
    "\n",
    "Use the template function from Bottle to render these templates in the respective routes."
   ]
  },
  {
   "cell_type": "code",
   "execution_count": null,
   "metadata": {},
   "outputs": [],
   "source": []
  },
  {
   "cell_type": "markdown",
   "metadata": {},
   "source": [
    "**Serve static files such as CSS or images to enhance the appearance of the application.**\n",
    "\n",
    "Create a directory named static in your project.\n",
    "\n",
    "Add a CSS file and/or image files to this directory.\n",
    "\n",
    "Create a route in your Bottle app to serve files from the static directory."
   ]
  },
  {
   "cell_type": "code",
   "execution_count": null,
   "metadata": {},
   "outputs": [],
   "source": []
  },
  {
   "cell_type": "markdown",
   "metadata": {},
   "source": [
    "**Additional (bonus) tasks**\n",
    "\n",
    "Implement error handling for routes (e.g., a 404 page).\n",
    "\n",
    "Experiment with more advanced features of Bottle, such as cookies, file uploads, or database integration."
   ]
  },
  {
   "cell_type": "code",
   "execution_count": null,
   "metadata": {},
   "outputs": [],
   "source": []
  },
  {
   "cell_type": "markdown",
   "metadata": {},
   "source": [
    "## Streamlit\n",
    "\n",
    "See if you can build a similiar app using streamlit. What are the differences?"
   ]
  },
  {
   "cell_type": "code",
   "execution_count": null,
   "metadata": {},
   "outputs": [],
   "source": []
  }
 ],
 "metadata": {
  "language_info": {
   "name": "python"
  }
 },
 "nbformat": 4,
 "nbformat_minor": 2
}
