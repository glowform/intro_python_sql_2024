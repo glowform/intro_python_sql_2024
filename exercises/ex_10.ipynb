{
 "cells": [
  {
   "cell_type": "markdown",
   "metadata": {},
   "source": [
    "# Webscrapping - excercises\n",
    "## Wikipedia\n",
    "Go to Wiki website for Basketball categroy.\n",
    "* https://en.wikipedia.org/wiki/Category:Basketball\n",
    "* Get the names of all articles in this category using requests and beautiful soup.\n",
    "* Get the conetns of all these articles using requests and BeautifulSoup\n",
    "* Get the contents of all these articles using Wikipedia API (https://www.mediawiki.org/wiki/API:Query)"
   ]
  },
  {
   "cell_type": "code",
   "execution_count": null,
   "metadata": {
    "collapsed": true
   },
   "outputs": [],
   "source": []
  },
  {
   "cell_type": "markdown",
   "metadata": {},
   "source": [
    "Using selenium perform following steps.\n",
    "* Visit frontpage of reddit.com.\n",
    "* Get all the target links and links to comment sections for all links in first three pages on main page (paginate using a selenium action).\n",
    "* Choose an article on random and get all the comments for one article. Make sure that you have retained the tree structure and information about authors and points."
   ]
  },
  {
   "cell_type": "code",
   "execution_count": null,
   "metadata": {
    "collapsed": true
   },
   "outputs": [],
   "source": []
  }
 ],
 "metadata": {
  "kernelspec": {
   "display_name": "Python 3",
   "language": "python",
   "name": "python3"
  },
  "language_info": {
   "codemirror_mode": {
    "name": "ipython",
    "version": 3
   },
   "file_extension": ".py",
   "mimetype": "text/x-python",
   "name": "python",
   "nbconvert_exporter": "python",
   "pygments_lexer": "ipython3",
   "version": "3.6.3"
  }
 },
 "nbformat": 4,
 "nbformat_minor": 2
}
