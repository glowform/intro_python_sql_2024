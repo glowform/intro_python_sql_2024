{
 "cells": [
  {
   "cell_type": "markdown",
   "metadata": {},
   "source": [
    "# Pandas\n",
    "Pandas is an essential Python package for storing and manipulating datasets. Pandas is fast and extremely powerful. There are too many pandas functions to describe them all in this course. So you will learn in general what are the capabilities of this package, in order to be able to find further information by yourself. The official tutorials and documentation are great sources for learning about pandas.\n",
    "* http://pandas.pydata.org/pandas-docs/stable/tutorials.html\n",
    "* http://pandas.pydata.org/pandas-docs/stable/index.html\n",
    "\n",
    "In this notebook you will learn basics of pandas. More pandas capabilities will be shown in further notebooks on sample datasets. In this introductory lesson you will use simple datasets availables in statsmodels package (if the next cell does not execute properly, you should install the missing package: statsmodels)."
   ]
  },
  {
   "cell_type": "code",
   "execution_count": null,
   "metadata": {
    "collapsed": true
   },
   "outputs": [],
   "source": [
    "import numpy as np\n",
    "import pandas as pd\n"
   ]
  },
  {
   "cell_type": "code",
   "execution_count": null,
   "metadata": {
    "collapsed": true
   },
   "outputs": [],
   "source": [
    "# http://statsmodels.sourceforge.net/devel/datasets/generated/fair.html\n",
    "import statsmodels.api as sm\n",
    "data = sm.datasets.fair.load_pandas()\n",
    "marr = data.exog"
   ]
  },
  {
   "cell_type": "code",
   "execution_count": null,
   "metadata": {
    "collapsed": true
   },
   "outputs": [],
   "source": [
    "marr = pd.read_pickle(\"marr.p\")"
   ]
  },
  {
   "cell_type": "markdown",
   "metadata": {},
   "source": [
    "## DataFrame and Series\n",
    "The basic data type is DataFrame, which consists of Series. Using a statsmodel function we have loaded a set of explanatory variables named marr. You can see how the dataset looks like by using head function, which takes a number of rows to show as an argument."
   ]
  },
  {
   "cell_type": "code",
   "execution_count": null,
   "metadata": {},
   "outputs": [],
   "source": [
    "print(marr.head())\n",
    "marr.head(10)"
   ]
  },
  {
   "cell_type": "markdown",
   "metadata": {},
   "source": [
    "As you can see, output of print function in notebook does not look good. If notebook uses its default function, the table is formatted in a vidually appealing way. Sometimes you may want to write a line displaying head/tail of a dataframe before the last line of a cell. You may use notebook's display instead of print for this purpose."
   ]
  },
  {
   "cell_type": "code",
   "execution_count": null,
   "metadata": {},
   "outputs": [],
   "source": [
    "from IPython.display import display\n",
    "display(marr.tail(4))\n",
    "display(marr.head(4))"
   ]
  },
  {
   "cell_type": "markdown",
   "metadata": {},
   "source": [
    "Every DataFrame (df) has column names and indices (row names). If an index is generated automatically, it takes consecutive integer values, from. Index can take any form including strings. In most cases it is not useful and you should keep integers as indices.\n",
    "* http://pandas.pydata.org/pandas-docs/stable/generated/pandas.DataFrame.reindex.html\n",
    "* https://pandas.pydata.org/pandas-docs/stable/generated/pandas.DataFrame.set_index.html\n",
    "\n",
    "By using column names you can easily create new views of existing DataFrame or create copies of its part. Unfortunately it is not always clear, if a new variable will be a copy or a reference. Usually though it will be a copy."
   ]
  },
  {
   "cell_type": "code",
   "execution_count": null,
   "metadata": {},
   "outputs": [],
   "source": [
    "# Create a reference\n",
    "c1marr = marr[:]\n",
    "# Create a copy\n",
    "c2marr = marr.copy()\n",
    "print(c1marr._is_view, c2marr._is_view)\n",
    "\n",
    "# Both lines create a copy, even though it is not explicit in the first case.\n",
    "c4marr = marr[['age', 'children', 'rate_marriage']]\n",
    "c5marr = marr[['age', 'children', 'educ']].copy()\n",
    "print(c4marr._is_view, c5marr._is_view)\n",
    "display(c4marr.head(3))\n"
   ]
  },
  {
   "cell_type": "markdown",
   "metadata": {},
   "source": [
    "You can easily show and change column names."
   ]
  },
  {
   "cell_type": "code",
   "execution_count": null,
   "metadata": {},
   "outputs": [],
   "source": [
    "print(\"Print an object containing columns: \\n\", marr.columns)\n",
    "\n",
    "marr.columns = ['rate', 'age', 'yrs_married', 'children', 'religious', 'educ',\n",
    "       'occupation', 'occupation_husb']\n",
    "print(\"\\Print values of a columns object after the change: \\n\", marr.columns.values)\n",
    "\n",
    "marr.columns.values[2] = \"years\"\n",
    "print(\"\\nPrint values of a columns object after changing one of them: \\n\", marr.columns.values)"
   ]
  },
  {
   "cell_type": "markdown",
   "metadata": {},
   "source": [
    ".values method returns contents of a given index or series. It is convenient if you need data in a simple format (usually for numpy). You can access a series using dot operator or column name in square brackets."
   ]
  },
  {
   "cell_type": "code",
   "execution_count": null,
   "metadata": {},
   "outputs": [],
   "source": [
    "print(marr[\"age\"].head())\n",
    "print(marr.age.head())\n",
    "print(marr.age.values[0:5])\n",
    "print(type(marr.age.values))"
   ]
  },
  {
   "cell_type": "markdown",
   "metadata": {},
   "source": [
    "Usually exploratory data analysis is the first step in data analysis. Obviously you may want to draw a histogram (charts will be shown later in the course), but you can also print numerical descriptions of data. All functions which are implemented in numpy are also available in pandas.\n",
    "* List of descriptive functions: http://pandas.pydata.org/pandas-docs/stable/api.html#api-dataframe-stats"
   ]
  },
  {
   "cell_type": "code",
   "execution_count": null,
   "metadata": {},
   "outputs": [],
   "source": [
    "print(\"Basic descriptions: \\n\", marr.age.describe())\n",
    "print(\"\\nNumber of levels: \\n\", marr.age.nunique())\n",
    "print(\"\\nCounts of levels: \\n\", marr.age.value_counts())\n",
    "print(\"\\nSome other descriptive measurement (mode): \\n\", marr.age.mode())\n",
    "\n"
   ]
  },
  {
   "cell_type": "markdown",
   "metadata": {},
   "source": [
    "### Modifying contents\n",
    "The contents of our series or df can be modified in multiple ways. Let's begin by creating a new column: age squared. The final result of all ways presented below is the same. Note that you have to use column name operator when assigning value to a variable (you must not use dot and column name)."
   ]
  },
  {
   "cell_type": "code",
   "execution_count": 1,
   "metadata": {},
   "outputs": [
    {
     "ename": "NameError",
     "evalue": "name 'marr' is not defined",
     "output_type": "error",
     "traceback": [
      "\u001b[1;31m---------------------------------------------------------------------------\u001b[0m",
      "\u001b[1;31mNameError\u001b[0m                                 Traceback (most recent call last)",
      "\u001b[1;32m~\\AppData\\Local\\Temp/ipykernel_6668/2079444099.py\u001b[0m in \u001b[0;36m<module>\u001b[1;34m\u001b[0m\n\u001b[1;32m----> 1\u001b[1;33m \u001b[0mmarr\u001b[0m\u001b[1;33m[\u001b[0m\u001b[1;34m\"age2\"\u001b[0m\u001b[1;33m]\u001b[0m \u001b[1;33m=\u001b[0m \u001b[0mmarr\u001b[0m\u001b[1;33m[\u001b[0m\u001b[1;34m\"age\"\u001b[0m\u001b[1;33m]\u001b[0m\u001b[1;33m*\u001b[0m\u001b[0mmarr\u001b[0m\u001b[1;33m[\u001b[0m\u001b[1;34m\"age\"\u001b[0m\u001b[1;33m]\u001b[0m\u001b[1;33m\u001b[0m\u001b[1;33m\u001b[0m\u001b[0m\n\u001b[0m\u001b[0;32m      2\u001b[0m \u001b[0mmarr\u001b[0m\u001b[1;33m[\u001b[0m\u001b[1;34m\"age2\"\u001b[0m\u001b[1;33m]\u001b[0m \u001b[1;33m=\u001b[0m \u001b[0mmarr\u001b[0m\u001b[1;33m.\u001b[0m\u001b[0mage\u001b[0m\u001b[1;33m*\u001b[0m\u001b[0mmarr\u001b[0m\u001b[1;33m.\u001b[0m\u001b[0mage\u001b[0m\u001b[1;33m\u001b[0m\u001b[1;33m\u001b[0m\u001b[0m\n\u001b[0;32m      3\u001b[0m \u001b[0mmarr\u001b[0m\u001b[1;33m[\u001b[0m\u001b[1;34m\"age2\"\u001b[0m\u001b[1;33m]\u001b[0m \u001b[1;33m=\u001b[0m \u001b[0mmarr\u001b[0m\u001b[1;33m[\u001b[0m\u001b[1;34m\"age\"\u001b[0m\u001b[1;33m]\u001b[0m\u001b[1;33m**\u001b[0m\u001b[1;36m2\u001b[0m\u001b[1;33m\u001b[0m\u001b[1;33m\u001b[0m\u001b[0m\n\u001b[0;32m      4\u001b[0m \u001b[0mmarr\u001b[0m\u001b[1;33m[\u001b[0m\u001b[1;34m\"age2\"\u001b[0m\u001b[1;33m]\u001b[0m \u001b[1;33m=\u001b[0m \u001b[0mmarr\u001b[0m\u001b[1;33m[\u001b[0m\u001b[1;34m\"age\"\u001b[0m\u001b[1;33m]\u001b[0m\u001b[1;33m.\u001b[0m\u001b[0mapply\u001b[0m\u001b[1;33m(\u001b[0m\u001b[1;32mlambda\u001b[0m \u001b[0mx\u001b[0m\u001b[1;33m:\u001b[0m \u001b[0mx\u001b[0m\u001b[1;33m**\u001b[0m\u001b[1;36m2\u001b[0m\u001b[1;33m)\u001b[0m\u001b[1;33m\u001b[0m\u001b[1;33m\u001b[0m\u001b[0m\n\u001b[0;32m      5\u001b[0m \u001b[0mmarr\u001b[0m\u001b[1;33m[\u001b[0m\u001b[1;34m\"age2\"\u001b[0m\u001b[1;33m]\u001b[0m \u001b[1;33m=\u001b[0m \u001b[0mnp\u001b[0m\u001b[1;33m.\u001b[0m\u001b[0mpower\u001b[0m\u001b[1;33m(\u001b[0m\u001b[0mmarr\u001b[0m\u001b[1;33m[\u001b[0m\u001b[1;34m\"age\"\u001b[0m\u001b[1;33m]\u001b[0m\u001b[1;33m.\u001b[0m\u001b[0mvalues\u001b[0m\u001b[1;33m,\u001b[0m \u001b[1;36m2\u001b[0m\u001b[1;33m)\u001b[0m\u001b[1;33m\u001b[0m\u001b[1;33m\u001b[0m\u001b[0m\n",
      "\u001b[1;31mNameError\u001b[0m: name 'marr' is not defined"
     ]
    }
   ],
   "source": [
    "marr[\"age2\"] = marr[\"age\"]*marr[\"age\"]\n",
    "marr[\"age2\"] = marr.age*marr.age\n",
    "marr[\"age2\"] = marr[\"age\"]**2\n",
    "marr[\"age2\"] = marr[\"age\"].apply(lambda x: x**2)\n",
    "marr[\"age2\"] = np.power(marr[\"age\"].values, 2)\n",
    "marr[\"age2\"] = [x**2 for x in marr[\"age\"].values]\n",
    "marr.head(3)"
   ]
  },
  {
   "cell_type": "markdown",
   "metadata": {},
   "source": [
    "You also may use list comprehension, even if you are not using the passed argument for computing the returned value."
   ]
  },
  {
   "cell_type": "code",
   "execution_count": null,
   "metadata": {},
   "outputs": [],
   "source": [
    "import random\n",
    "rainbow = ['red', 'orange', 'yellow', 'green', 'blue', 'indigo', 'violet']\n",
    "marr[\"favColor\"] = \"col\"\n",
    "# List comprehension is used only to create a list of length equal to the number of dataframe's rows.\n",
    "marr[\"favColor\"] = [random.choice(rainbow) for x in marr.index.values]\n",
    "marr.head(5)"
   ]
  },
  {
   "cell_type": "markdown",
   "metadata": {},
   "source": [
    "### Indexing\n",
    "There are two basic ways of indexing and selecting data in pandas: integer-position-based (.iloc) and label-based (.loc). The first is analogous to any two-dimensional matrix in numpy. The second refers to the label (index) of a dataframe, which may have any form - it does not have to be sorted, monotonic, numerical etc."
   ]
  },
  {
   "cell_type": "code",
   "execution_count": null,
   "metadata": {},
   "outputs": [],
   "source": [
    "marr.set_index(np.random.permutation(np.arange(marr.shape[0])), inplace=True)\n",
    "display(marr.head(5))\n",
    "print(\"Chosen part of df: \\n\", marr.iloc[3:5, 2:4])\n",
    "print(\"\\nChosen part of series: \\n\", marr.children.iloc[3:5])"
   ]
  },
  {
   "cell_type": "code",
   "execution_count": null,
   "metadata": {},
   "outputs": [],
   "source": [
    "print(marr.shape)\n",
    "print(\"Save indices of the red rows.\")\n",
    "redRows = marr.favColor==\"red\"\n",
    "print(type(redRows), redRows.shape)\n",
    "print(redRows.head(10))\n",
    "print(\"Choose the red rows\")\n",
    "display(marr.loc[redRows].head(5))\n",
    "display(marr.loc[marr.favColor==\"red\"].head(5))\n",
    "\n",
    "print(\"Choose red or orange rows\")\n",
    "display(marr.loc[marr.favColor.isin(['red','orange'])].head(5))\n",
    "\n",
    "print(\"Choose young red rows\")\n",
    "# You cannot use \"and\" instead of \"&\" in this case\n",
    "display(marr.loc[(marr.favColor==\"red\") & (marr.age<=25)].head(5))\n",
    "display(marr[(marr.favColor==\"red\") & (marr.age<=25)].head(5))\n",
    "%timeit -n 10 marr.loc[(marr.favColor==\"red\") & (marr.age<=25)]\n",
    "%timeit -n 10 marr[(marr.favColor==\"red\") & (marr.age<=25)]"
   ]
  },
  {
   "cell_type": "markdown",
   "metadata": {},
   "source": [
    "### Indexing to modify\n",
    "As you can see in the last example, .loc is not necessary, if you choose rows to display. Hovewer it is required when you modify rows."
   ]
  },
  {
   "cell_type": "code",
   "execution_count": null,
   "metadata": {},
   "outputs": [],
   "source": [
    "marr.loc[marr.favColor==\"red\", \"favColor\"]=\"reddish\"\n",
    "marr.head(10)\n",
    "# This code does not work:\n",
    "# marr[marr.favColor==\"red\", \"favColor\"]=\"reddish\""
   ]
  },
  {
   "cell_type": "code",
   "execution_count": null,
   "metadata": {},
   "outputs": [],
   "source": [
    "# the code below is correct and the result is as expected, but pandas issues a warning\n",
    "marr.favColor.loc[marr.favColor==\"reddish\"]=\"red\"\n",
    "marr.head(10)"
   ]
  },
  {
   "cell_type": "markdown",
   "metadata": {},
   "source": [
    "### Queries\n",
    "In practice repeating dataframe's name may be inconvenient if you want to select a part of a dataframe. This is why \"query\" interface has been created. Query is an method which passes a result to .loc, but has a clear and more readable syntax."
   ]
  },
  {
   "cell_type": "code",
   "execution_count": null,
   "metadata": {},
   "outputs": [],
   "source": [
    "display(marr.query('favColor == \"violet\"').head(5))\n",
    "display(marr.query('favColor == \"violet\" & age > 30').head(5))\n",
    "# in this case \"and\" may be used instead of \"&\"\n",
    "display(marr.query('favColor == \"violet\" and age > 30').head(5))"
   ]
  },
  {
   "cell_type": "code",
   "execution_count": null,
   "metadata": {},
   "outputs": [],
   "source": [
    "# You may combine various criteria, including comparison of columns.\n",
    "display(marr.query('favColor == \"blue\" and years < educ').head(5))"
   ]
  },
  {
   "cell_type": "markdown",
   "metadata": {},
   "source": [
    "Additionally, query allows inserting dynamic values to our queries. Operator @ refers to variables in Python (in the environment), not dataframe columns."
   ]
  },
  {
   "cell_type": "code",
   "execution_count": null,
   "metadata": {},
   "outputs": [],
   "source": [
    "ageLimit = 30\n",
    "display(marr.query('age <= @ageLimit').head(5))\n",
    "\n",
    "colors = [\"violet\", \"blue\"]\n",
    "display(marr.query('favColor in @colors').head(5))\n",
    "\n",
    "for color in colors:\n",
    "    display(marr.query('favColor in @color').head(5))"
   ]
  },
  {
   "cell_type": "markdown",
   "metadata": {},
   "source": [
    "### Evaluation\n",
    "Pandas allows evaluating variables in a way similar to \"query\". In some cases (but not always) using eval is faster than saving directly."
   ]
  },
  {
   "cell_type": "code",
   "execution_count": null,
   "metadata": {},
   "outputs": [],
   "source": [
    "%timeit -n 5 marr[\"age2\"] = marr[\"age\"]*marr[\"educ\"]\n",
    "%timeit -n 5 marr.eval('age2 = age*educ', inplace=True)\n"
   ]
  },
  {
   "cell_type": "markdown",
   "metadata": {},
   "source": [
    "## Creating dataframes and series\n",
    "Often you will need to create a new dataframe or series from other sets or lists. There are many ways to do it, some basic ones are shown below."
   ]
  },
  {
   "cell_type": "code",
   "execution_count": null,
   "metadata": {},
   "outputs": [],
   "source": [
    "# Let's create numpy vectors with random content at the beginning.\n",
    "noUsers = 1000\n",
    "ids = np.arange(1, noUsers+1)\n",
    "sex = np.random.randint(0,2,(noUsers))\n",
    "age = np.floor(np.maximum(np.minimum(np.random.gamma(5, scale=1.0, size=(noUsers)), 13),1)*6+5)\n",
    "# Prepare a dictionary combining contents with column names\n",
    "data = {'idUser': ids, 'sex': sex, 'age': age}\n",
    "# Create a dataframe\n",
    "users = pd.DataFrame(data)\n",
    "display(users.head())"
   ]
  },
  {
   "cell_type": "code",
   "execution_count": null,
   "metadata": {},
   "outputs": [],
   "source": [
    "# You can skip creating a dictionary\n",
    "users = pd.DataFrame(np.vstack([ids, sex, age]).transpose(), columns=['idUser', 'sex', 'age'])\n",
    "display(users.head())"
   ]
  },
  {
   "cell_type": "markdown",
   "metadata": {},
   "source": [
    "Often you will need to create variables dynamically (API, webscraping etc.). It is convenient to create a list of lists (as consecutive rows) and then create a dataframe."
   ]
  },
  {
   "cell_type": "code",
   "execution_count": null,
   "metadata": {},
   "outputs": [],
   "source": [
    "rows = []\n",
    "for k in range(10):\n",
    "    row = [\n",
    "        np.random.randint(0,k+1),\n",
    "        np.random.randint(k,2*k+1),\n",
    "        np.random.randint(2*k,3*k+1)\n",
    "    ]\n",
    "    rows.append(row)\n",
    "display(pd.DataFrame(rows, columns=[\"var1\", \"var2\", \"var3\"]))"
   ]
  },
  {
   "cell_type": "markdown",
   "metadata": {},
   "source": [
    "There are even more functions to create dataframes in pandas. Apart from reading standard datasets (e.g. csv), it can read HTML and load frames from records or dictionaries."
   ]
  },
  {
   "cell_type": "code",
   "execution_count": null,
   "metadata": {
    "collapsed": true
   },
   "outputs": [],
   "source": [
    "# pd.DataFrame.from_"
   ]
  },
  {
   "cell_type": "markdown",
   "metadata": {},
   "source": [
    "## apply and map\n",
    "When modifying contents of a df you may sometimes want to use own, more complicated functions. One of possible solutions is writing a function in such a way that it takes a numpy vector as an argument and passing values of a series (e.g. marr[\"age2\"] = np.power(marr[\"age\"].values, 2). Sometimes you may want to perform operations on rows/columns/dataframes, and not only on a series. You can use apply, map and applymap methods for this purpose. They are very similar to each other. Simplified description below:\n",
    "* apply - works on vectors, on a series, or on dataframe rows/columns.\n",
    "* map - applies a function (including a dictionary) on each element of a series\n",
    "* applymap - as above, but on each element of a dataframe\n",
    "\n",
    "At this point you may not understand why would you need these methods, because you do not have experience with them. But look at apply and map now, so that you will have already seen them when you will need them."
   ]
  },
  {
   "cell_type": "code",
   "execution_count": null,
   "metadata": {},
   "outputs": [],
   "source": [
    "# Perform operation on each element of a series\n",
    "marr[\"binRel\"] = marr.religious.map(lambda x: 0 if x<3 else 1)\n",
    "marr.head()"
   ]
  },
  {
   "cell_type": "code",
   "execution_count": null,
   "metadata": {},
   "outputs": [],
   "source": [
    "# Perform operation on each element of a series, but in a slightly different way. \n",
    "marr[\"binRel\"] = marr.religious.apply(lambda x: 0 if x<3 else 1)\n",
    "marr.head()"
   ]
  },
  {
   "cell_type": "markdown",
   "metadata": {},
   "source": [
    "When using series (series.apply as opposed to df.apply) the difference between apply and map is very subtle. Here you can see an example of differences: (https://stackoverflow.com/a/27368948)"
   ]
  },
  {
   "cell_type": "code",
   "execution_count": null,
   "metadata": {},
   "outputs": [],
   "source": [
    "display(marr.religious.iloc[0:5].apply(lambda x: pd.Series([x, x])))\n",
    "display(marr.religious.iloc[0:5].map(lambda x: pd.Series([x, x])))"
   ]
  },
  {
   "cell_type": "markdown",
   "metadata": {},
   "source": [
    "Applymap allows you to perform any function for each element. In practice, because arrays or dataframes usually have columns of different types, applymap is not often used."
   ]
  },
  {
   "cell_type": "code",
   "execution_count": null,
   "metadata": {},
   "outputs": [],
   "source": [
    "marr.iloc[0:3].applymap(lambda x: print(type(x), x))"
   ]
  },
  {
   "cell_type": "markdown",
   "metadata": {},
   "source": [
    "You will probably use apply on a whole dataframe quite often, e.g. for checking the maximum value in each column."
   ]
  },
  {
   "cell_type": "code",
   "execution_count": null,
   "metadata": {},
   "outputs": [],
   "source": [
    "marr.apply(np.max)"
   ]
  },
  {
   "cell_type": "markdown",
   "metadata": {},
   "source": [
    "When you use apply, every column/row is regarded as a series. This is why iterating over rows and addressing by columns may be convenient."
   ]
  },
  {
   "cell_type": "code",
   "execution_count": null,
   "metadata": {},
   "outputs": [],
   "source": [
    "marr.iloc[0:20].apply(lambda x: \"long happy marriage\" if (x['age'] > 35 and x['years']>20) else \"no\", axis=1)"
   ]
  },
  {
   "cell_type": "markdown",
   "metadata": {},
   "source": [
    "You must take into account, that creating a new series for every row creates large overhead."
   ]
  },
  {
   "cell_type": "code",
   "execution_count": null,
   "metadata": {},
   "outputs": [],
   "source": [
    "%timeit -n 10 marr.apply(lambda x: \"long happy marriage\" if (x['age'] > 35 and x['years']>20) else \"no\", axis=1)\n",
    "%timeit -n 10 np.apply_along_axis(lambda x: \"long happy marriage\" if (x[1] > 35 and x[2]>20) else \"no\", 1, marr.values)\n",
    "%timeit -n 10 [\"long happy marriage\" if (x.age > 35 and x.years>20) else \"no\" for x in marr.itertuples()]"
   ]
  },
  {
   "cell_type": "code",
   "execution_count": null,
   "metadata": {
    "collapsed": true
   },
   "outputs": [],
   "source": []
  },
  {
   "cell_type": "markdown",
   "metadata": {},
   "source": [
    "### Grouping\n",
    "Operations on a grouped dataset are very often used. Popularity of pivot tables in excel is a proof of that. This operation is immensely useful for statistical description of a dataset. Look at the following examples.\n",
    "\n",
    "In pandas, groupby method is used for this purpose. It creates groups of row indices by a given way. It allows you to avoid creating unnecessary copies of a whole dataframe. It is a particularly huge memory-saver when you already have a large datasets with a lot of columns. "
   ]
  },
  {
   "cell_type": "code",
   "execution_count": null,
   "metadata": {},
   "outputs": [],
   "source": [
    "# You can save grouped rows as a separate variable,\n",
    "colorGroups = marr.groupby(['favColor'])\n",
    "# you can display or use one of the groups...\n",
    "display(colorGroups.get_group(\"blue\").head(5))\n",
    "display(colorGroups.get_group(\"blue\")['educ'].head(5))\n",
    "# ...or perform a function on grouped values\n",
    "display(colorGroups.count())\n",
    "display(colorGroups.mean())"
   ]
  },
  {
   "cell_type": "markdown",
   "metadata": {},
   "source": [
    "#### Aggregating\n",
    "When you have groups, you want to use them for some purpose, like descriptive statistics for every group. When using agg() function you have much greater control over tables than when performing a function directly on grouped elements. You may freely choose which columns and functions should be used."
   ]
  },
  {
   "cell_type": "code",
   "execution_count": null,
   "metadata": {},
   "outputs": [],
   "source": [
    "print(\"Basic aggregating\")\n",
    "display(colorGroups.agg({'educ':'sum', 'years': 'mean'}))\n",
    "\n",
    "print(\"Aggregating using numpy/lambda functions\")\n",
    "display(colorGroups.agg({'educ':np.mean, 'years': lambda x: np.sqrt(x).sum()}))\n",
    "\n",
    "print(\"Aggregating with many statistical functions for a single column\")\n",
    "marr.groupby(['favColor']).agg({'educ':[np.mean, 'sum', np.std], 'years': 'mean'})"
   ]
  },
  {
   "cell_type": "markdown",
   "metadata": {},
   "source": [
    "The last example shows MultiIndex in pandas. In practice you may have several columns where a single column is also a whole dataframe (as shown below)."
   ]
  },
  {
   "cell_type": "code",
   "execution_count": null,
   "metadata": {},
   "outputs": [],
   "source": [
    "temp = marr.groupby(['favColor']).agg({'educ':[np.mean, 'sum', np.std], 'years': 'mean'})\n",
    "display(temp)\n",
    "type(temp[\"educ\"])\n",
    "display(temp[\"educ\"])"
   ]
  },
  {
   "cell_type": "markdown",
   "metadata": {},
   "source": [
    "You may group by more than one variable. Let's define a binary variable which groups people by age: 1 if they are older than 35, 0 otherwise"
   ]
  },
  {
   "cell_type": "code",
   "execution_count": null,
   "metadata": {},
   "outputs": [],
   "source": [
    "marr[\"older\"] = (marr.age > 35)\n",
    "# Of course order of arguments makes a difference\n",
    "display(marr.groupby(['favColor', 'older']).agg({'educ':[np.mean, 'sum', np.std], 'years': 'mean'}))\n",
    "display(marr.groupby(['older', 'favColor']).agg({'educ':[np.mean, 'sum', np.std], 'years': 'mean'}))\n",
    "# Save the last result\n",
    "aggs = marr.groupby(['older', 'favColor']).agg({'educ':[np.mean, 'sum', np.std], 'years': 'mean'})"
   ]
  },
  {
   "cell_type": "markdown",
   "metadata": {},
   "source": [
    "MultiIndex may be useful, but definitely not in every case. Fortunately we may easily drop one unnecessary level."
   ]
  },
  {
   "cell_type": "code",
   "execution_count": null,
   "metadata": {},
   "outputs": [],
   "source": [
    "aggs.columns =  [x+y.capitalize() for x,y in aggs.columns.values]\n",
    "display(aggs)"
   ]
  },
  {
   "cell_type": "markdown",
   "metadata": {},
   "source": [
    "MultiIndex on rows also may or may not be useful. Often it is better to have values as columns and not as index."
   ]
  },
  {
   "cell_type": "code",
   "execution_count": null,
   "metadata": {},
   "outputs": [],
   "source": [
    "display(aggs.reset_index())\n",
    "# We may drop only one index level\n",
    "# Note that row index is not unique in this case.\n",
    "display(aggs.reset_index(level=0))"
   ]
  },
  {
   "cell_type": "markdown",
   "metadata": {},
   "source": [
    "#### Transforming and apply\n",
    "Grouping may be useful not only for aggregating, but also for performing operations on columns inside groups. You may need to merge the results with our initial dataframe. .transform() function is used for this purpose, as it allows you to operate on a particular column. The cells below compute mean age of people in a group and broadcasts the values into original df shape."
   ]
  },
  {
   "cell_type": "code",
   "execution_count": null,
   "metadata": {},
   "outputs": [],
   "source": [
    "marr[\"meanAgePerColor\"] = marr.groupby(['favColor'])[\"age\"].transform(np.mean)\n",
    "display(marr.head(10))"
   ]
  },
  {
   "cell_type": "markdown",
   "metadata": {},
   "source": [
    "You may want to perform operations on rows, but taking aggregates into account."
   ]
  },
  {
   "cell_type": "code",
   "execution_count": null,
   "metadata": {},
   "outputs": [],
   "source": [
    "marr[\"ageDeMeaned\"] = marr.groupby(['favColor'])[\"age\"].transform(lambda x: x - np.mean(x))\n",
    "display(marr.head(10))"
   ]
  },
  {
   "cell_type": "markdown",
   "metadata": {},
   "source": [
    "Apply function gives us even more possibilities, because it can perform operations on a whole dataframe inside of a group. It makes operations on multiple columns easy."
   ]
  },
  {
   "cell_type": "code",
   "execution_count": null,
   "metadata": {},
   "outputs": [],
   "source": [
    "print(marr.groupby(['favColor']).apply(lambda x: x[\"age\"]-x[\"educ\"]).shape)\n",
    "display(marr.groupby(['favColor']).apply(lambda x: x[\"age\"]-x[\"educ\"]))\n",
    "marr[\"nonEducYears2\"]=marr.groupby(['favColor']).apply(lambda x: x[\"age\"]-x[\"educ\"])"
   ]
  },
  {
   "cell_type": "code",
   "execution_count": null,
   "metadata": {},
   "outputs": [],
   "source": [
    "temp = marr.groupby(['favColor']).apply(lambda x: x[\"age\"]-x[\"educ\"])\n",
    "temp.index = [y for x,y in temp.index.values]\n",
    "marr[\"nonEducYears\"] = temp\n",
    "marr[\"nonEducYears2\"]=marr.groupby(['favColor']).apply(lambda x: x[\"age\"]-x[\"educ\"]).reset_index(level=0, drop=True)\n",
    "marr.head(10)"
   ]
  },
  {
   "cell_type": "markdown",
   "metadata": {},
   "source": [
    "Apply is very flexible and can run almost any function, also those which return objects in other dimensions. Below describe is used to summarize group properties."
   ]
  },
  {
   "cell_type": "code",
   "execution_count": null,
   "metadata": {
    "scrolled": true
   },
   "outputs": [],
   "source": [
    "print(marr.groupby(['favColor']).apply(lambda x: x.describe()).shape)\n",
    "marr.groupby(['favColor']).apply(lambda x: x.describe())"
   ]
  },
  {
   "cell_type": "markdown",
   "metadata": {},
   "source": [
    "#### Group filtering\n",
    "Filter function returns these rows which meet some criteria inside a group.\n",
    "For example, if you choose groups with mean age over 29, an incomplete set is returned,"
   ]
  },
  {
   "cell_type": "code",
   "execution_count": null,
   "metadata": {},
   "outputs": [],
   "source": [
    "print(marr.groupby(['favColor']).filter(lambda x: x[\"age\"].mean() >29).shape)\n",
    "temp = marr.groupby(['favColor']).filter(lambda x: x[\"age\"].mean() >29)\n",
    "print(temp.favColor.unique())\n",
    "temp.head(10)"
   ]
  },
  {
   "cell_type": "code",
   "execution_count": null,
   "metadata": {
    "collapsed": true
   },
   "outputs": [],
   "source": []
  },
  {
   "cell_type": "code",
   "execution_count": null,
   "metadata": {
    "collapsed": true
   },
   "outputs": [],
   "source": []
  },
  {
   "cell_type": "code",
   "execution_count": null,
   "metadata": {
    "collapsed": true
   },
   "outputs": [],
   "source": []
  }
 ],
 "metadata": {
  "kernelspec": {
   "display_name": "Python 3",
   "language": "python",
   "name": "python3"
  },
  "language_info": {
   "codemirror_mode": {
    "name": "ipython",
    "version": 3
   },
   "file_extension": ".py",
   "mimetype": "text/x-python",
   "name": "python",
   "nbconvert_exporter": "python",
   "pygments_lexer": "ipython3",
   "version": "3.9.13"
  }
 },
 "nbformat": 4,
 "nbformat_minor": 2
}
