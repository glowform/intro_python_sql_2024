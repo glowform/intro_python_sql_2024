{
 "cells": [
  {
   "cell_type": "markdown",
   "metadata": {},
   "source": [
    "# SQL + Python integration\n",
    "\n",
    "Python allows us to connect and manage SQLite database. In order to do that we use module called sqlite3.\n",
    "The sqlite3 module was written by Gerhard Häring. It provides a SQL interface compliant with the DB-API 2.0.\n",
    "\n",
    "\n",
    "The DB API provides a minimal standard for working with databases, using Python structures and syntax wherever possible. This API includes the following:\n",
    "\n",
    "    Connections, which cover guidelines for how to connect to databases\n",
    "\n",
    "    Executing statements and stored procedures to query, update, insert, and delete data with cursors\n",
    "\n",
    "    Transactions, with support for committing or rolling back a transaction\n",
    "\n",
    "    Examining metadata on the database module as well as on database and table structure\n",
    "\n",
    "    Defining the types of errors\n"
   ]
  },
  {
   "cell_type": "markdown",
   "metadata": {},
   "source": [
    "# Create\\Close Connection\n",
    "\n",
    "To use sqlite3 module we have to first import it and than we create a Connection object (cnn) that represents the database.\n",
    "We pass the database file name (should be located in the same directory as jupyter notebook file) as parameter in connect method. "
   ]
  },
  {
   "cell_type": "code",
   "execution_count": null,
   "metadata": {
    "collapsed": true
   },
   "outputs": [],
   "source": [
    "import sqlite3\n",
    "# We connect to testdb2.db database\n",
    "conn = sqlite3.connect('testdb2.db')\n",
    "\n",
    "\n",
    "# We close the connection and free all resources\n",
    "conn.close()"
   ]
  },
  {
   "cell_type": "markdown",
   "metadata": {},
   "source": [
    "# Create table\n",
    "\n",
    "Once we have object Connection (conn), we can create an Cursor object (c). The c object allows us to create table students by callling the method execute. We pass creat table command as parameter in execute method.\n",
    "\n"
   ]
  },
  {
   "cell_type": "code",
   "execution_count": null,
   "metadata": {
    "collapsed": true
   },
   "outputs": [],
   "source": [
    "conn = sqlite3.connect('testdb2.db')\n",
    "\n",
    "c = conn.cursor()\n",
    "\n",
    "# Create table\n",
    "c.execute(\"CREATE TABLE students(student_id integer primary key autoincrement,name text not null, surname text not null,birth date,weight int,height int)\")\n",
    "\n",
    "# Save (commit) the changes in database.\n",
    "# Changes not commited will be lost\n",
    "conn.commit()\n",
    "\n",
    "# We close the connection and free all resources\n",
    "conn.close()\n"
   ]
  },
  {
   "cell_type": "markdown",
   "metadata": {},
   "source": [
    "We ca n ru a query to what tables there are in our database."
   ]
  },
  {
   "cell_type": "code",
   "execution_count": null,
   "metadata": {},
   "outputs": [],
   "source": [
    "conn = sqlite3.connect('testdb2.db')\n",
    "\n",
    "c = conn.cursor()\n",
    "\n",
    "c.execute(\"SELECT name FROM sqlite_master WHERE type='table';\")\n",
    "tables = c.fetchall()\n",
    "for tableName in tables:\n",
    "    print(tableName)\n",
    "\n",
    "# We do not have to commit anything as we didn't make any changes.\n",
    "conn.close()"
   ]
  },
  {
   "cell_type": "markdown",
   "metadata": {},
   "source": [
    "We use the method commit() of Cursor object to save changes in database.\n",
    "Finally, we close the connection with close() method to free resources."
   ]
  },
  {
   "cell_type": "markdown",
   "metadata": {},
   "source": [
    "# DROP table\n",
    "\n",
    "We use method execute and sql drop statment to remove table from database."
   ]
  },
  {
   "cell_type": "code",
   "execution_count": null,
   "metadata": {
    "collapsed": true
   },
   "outputs": [],
   "source": [
    "conn = sqlite3.connect('testdb2.db')\n",
    "\n",
    "c = conn.cursor()\n",
    "\n",
    "# execute the commend below to drop table\n",
    "\n",
    "c.execute(\"Drop table students\")\n",
    "# Save (commit) the changes\n",
    "conn.commit()\n",
    "\n",
    "# We close the connection and free all resources\n",
    "conn.close()"
   ]
  },
  {
   "cell_type": "markdown",
   "metadata": {},
   "source": [
    "# Insert rows\n",
    "\n",
    "We put data into a table students, using sql insert statment in execute command.\n",
    "\n",
    "The values in sql insert command should be passed with placeholder operator (?).\n",
    "\n",
    "The use of string operators (not placeholder operator) is a bad programming practice.\n",
    "It results in the thread of sql injection attack. Humorous description of that problem we find at  https://xkcd.com/327/ .\n"
   ]
  },
  {
   "cell_type": "markdown",
   "metadata": {},
   "source": [
    "First create table:"
   ]
  },
  {
   "cell_type": "code",
   "execution_count": null,
   "metadata": {
    "collapsed": true
   },
   "outputs": [],
   "source": [
    "conn = sqlite3.connect('testdb2.db')\n",
    "\n",
    "c = conn.cursor()\n",
    "\n",
    "# Create table\n",
    "c.execute(\"CREATE TABLE students(student_id integer primary key autoincrement,name text not null, surname text not null,birth date,weight int,height int)\")\n",
    "\n",
    "# Save (commit) the changes in database.\n",
    "# Changes not commited will be lost\n",
    "conn.commit()\n",
    "\n",
    "# We close the connection and free all resources\n",
    "conn.close()"
   ]
  },
  {
   "cell_type": "markdown",
   "metadata": {},
   "source": [
    "Now,let's insert records:"
   ]
  },
  {
   "cell_type": "code",
   "execution_count": null,
   "metadata": {},
   "outputs": [],
   "source": [
    "conn = sqlite3.connect('testdb2.db')\n",
    "\n",
    "c = conn.cursor()\n",
    "\n",
    "# Insert record values using placeholder operator\n",
    "# While student_id column value is autoincrement primary key,its value should be equal to None\n",
    "c.execute(\"INSERT INTO students VALUES(?,?,?,?,?,?)\",(None,'Tom','Silver',72,182,'1989-11-03'))\n",
    "\n",
    "# WRONG:Do not use string operators as below\n",
    "#c.execute(\"INSERT INTO students VALUES ({0},{1},{2},{3},{4})\".format('Tom','Silver',72,182,'1989-11-03'))\n",
    "\n",
    "# print total number of changed rows\n",
    "print(\"number of affected rows: {0}\".format(conn.total_changes))\n",
    "\n",
    "# Save (commit) the changes\n",
    "conn.commit()\n",
    "\n",
    "# We close the connection and free all resources\n",
    "conn.close()"
   ]
  },
  {
   "cell_type": "markdown",
   "metadata": {},
   "source": [
    "We can also insert many records in one time into database. We use for that executemany() method. We pass list of records as argument. Each record is also a single list. "
   ]
  },
  {
   "cell_type": "code",
   "execution_count": null,
   "metadata": {},
   "outputs": [],
   "source": [
    "conn = sqlite3.connect('testdb2.db')\n",
    "\n",
    "c = conn.cursor()\n",
    "\n",
    "# Larger example that inserts many records at a time\n",
    "studentsRecords = [(None,'Tom','Silver',72,182,'1989-11-03'),\n",
    "             (None,'Adam','Brown',82,192,'1992-11-03'),\n",
    "             (None,'Maria','Great',52,162,'1995-11-03'),]\n",
    "\n",
    "c.executemany('INSERT INTO students VALUES (?,?,?,?,?,?)', studentsRecords)\n",
    "\n",
    "# print total number of changed rows\n",
    "print(\"number of affected rows: {0}\".format(conn.total_changes))\n",
    "\n",
    "# Save (commit) the changes\n",
    "conn.commit()\n",
    "\n",
    "# We close the connection and free all resources\n",
    "conn.close()"
   ]
  },
  {
   "cell_type": "markdown",
   "metadata": {},
   "source": [
    "# Select rows\n",
    "\n",
    "To retrieve data after executing a SELECT statement, you can either treat the cursor as an iterator, call the cursor’s fetchone() method to retrieve a single matching row, or call fetchall() to get a list of the matching rows"
   ]
  },
  {
   "cell_type": "code",
   "execution_count": null,
   "metadata": {},
   "outputs": [],
   "source": [
    "conn = sqlite3.connect('testdb2.db')\n",
    "\n",
    "c = conn.cursor()\n",
    "\n",
    "# execute the commend below to select name,surname and iteterate through results using iterator\n",
    "for row in c.execute(\"SELECT name,surname FROM students ORDER BY surname\"):\n",
    "    print(row)\n",
    "\n",
    "c.execute(\"SELECT name,surname FROM students ORDER BY surname\")\n",
    "\n",
    "# execute the commend below to select name,surname,weight,height\n",
    "c.execute(\"SELECT name,surname,weight,height FROM students ORDER BY surname\")\n",
    "\n",
    "# get and print single result\n",
    "print(c.fetchone())\n",
    "\n",
    "\n",
    "# execute the commend below to select name,surname,weight,height\n",
    "c.execute(\"SELECT * from students ORDER BY surname\")\n",
    "\n",
    "# get all results,assign them to the list,fecthall() returns empty list if no results\n",
    "listOfResults=c.fetchall()\n",
    "for item in listOfResults:\n",
    "    print(item)\n",
    "\n",
    "\n",
    "# Save (commit) the changes\n",
    "conn.commit()\n",
    "\n",
    "# We close the connection and free all resources\n",
    "conn.close()"
   ]
  },
  {
   "cell_type": "markdown",
   "metadata": {},
   "source": [
    "If we want to obtain information about number of columns and columns names then we shoud operate on Row object. Row object is returned by fetchone() method. \n",
    "\n",
    "REMARK: We must define row_factory in Connection object as below."
   ]
  },
  {
   "cell_type": "code",
   "execution_count": null,
   "metadata": {},
   "outputs": [],
   "source": [
    "conn = sqlite3.connect('testdb2.db')\n",
    "\n",
    "# If we want to operate on rows we must define row factory\n",
    "conn.row_factory = sqlite3.Row\n",
    "\n",
    "c = conn.cursor()\n",
    "\n",
    "c.execute(\"SELECT * from students ORDER BY surname\")\n",
    "row=c.fetchone()\n",
    "\n",
    "# print number of columns\n",
    "print(len(row))\n",
    "# print value in the first three column \n",
    "print(row[0], row[1], row[2])\n",
    "# or address values by column names.\n",
    "print(row[\"name\"], row[\"surname\"])\n",
    "# print columns names\n",
    "print(row.keys())\n",
    "\n",
    "# We close the connection and free all resources\n",
    "conn.close()\n"
   ]
  },
  {
   "cell_type": "markdown",
   "metadata": {},
   "source": [
    "# Custom function\n",
    "\n",
    "SQLite3 module allows user to define custom function. Below we have example of md5sum(t) function, which encodes the input string. "
   ]
  },
  {
   "cell_type": "code",
   "execution_count": null,
   "metadata": {},
   "outputs": [],
   "source": [
    "# import required modules\n",
    "import hashlib\n",
    "\n",
    "def md5sum(t):\n",
    "    return hashlib.md5(t).hexdigest()\n",
    "\n",
    "conn = sqlite3.connect(\"testdb2.db\")\n",
    "# create function takes three arguments: \n",
    "# name of the custom function in SQLite3 module, number of parameters,name of the custom function in Python \n",
    "conn.create_function(\"md5\", 1, md5sum)\n",
    "c = conn.cursor()\n",
    "# below code encodes name,surname and inserts data into table\n",
    "c.execute(\"INSERT INTO students VALUES (?,md5(?),?,?,?,?)\",(None,b'Tom','Silver',72,182,'1989-11-03'))\n",
    "\n",
    "# print total number of changed rows\n",
    "print(\"number of affected rows: {0}\".format(conn.total_changes))\n",
    "\n",
    "c.execute(\"Select * from students\")\n",
    "# get all results,assign them to the list,fecthall() returns empty list if no results\n",
    "listOfResults=c.fetchall()\n",
    "for item in listOfResults:\n",
    "    print(item)\n",
    "\n",
    "# Save (commit) the changes\n",
    "conn.commit()\n",
    "\n",
    "# We close the connection and free all resources\n",
    "conn.close()"
   ]
  },
  {
   "cell_type": "markdown",
   "metadata": {},
   "source": [
    "# Controlling Transactions\n"
   ]
  },
  {
   "cell_type": "markdown",
   "metadata": {},
   "source": [
    "The sqlite3 module opens transactions implicitly before a SQL statement (i.e. INSERT/UPDATE/DELETE/REPLACE). \n",
    "The method rollback() method rolls back any changes to the database since the last call to commit()."
   ]
  },
  {
   "cell_type": "markdown",
   "metadata": {},
   "source": [
    "# Exceptions"
   ]
  },
  {
   "cell_type": "markdown",
   "metadata": {},
   "source": [
    "SQLite3 module provides the following types of exceptions:\n",
    "\n",
    "*exception sqlite3.DatabaseError\n",
    "\n",
    "    Exception raised for errors that are related to the database.\n",
    "\n",
    "*exception sqlite3.IntegrityError\n",
    "\n",
    "    Exception raised when the relational integrity of the database is affected, e.g. a foreign key check fails. \n",
    "    It is a subclass of DatabaseError.\n",
    "\n",
    "*exception sqlite3.ProgrammingError\n",
    "\n",
    "    Exception raised for programming errors, e.g. table not found or already exists, \n",
    "    syntax error in the SQL statement, wrong number of parameters specified, etc. \n",
    "    It is a subclass of DatabaseError.\n",
    "\n",
    "REMARK: We should remember to close connection and free resources in both cases when exception occurs and does not occur.\n",
    "When exception occurs we should rollback changes in given transaction.\n"
   ]
  },
  {
   "cell_type": "code",
   "execution_count": null,
   "metadata": {},
   "outputs": [],
   "source": [
    "con = sqlite3.connect(\"testdb2.db\")\n",
    "\n",
    "try:\n",
    "    # Successful, con.commit() is called automatically afterwards\n",
    "    with con:\n",
    "        con.execute(\"INSERT INTO students VALUES (?,?,?,?,?,?)\",(None,'Mark','LastGood',69,174,'1989-11-03'))\n",
    "        con.execute(\"INSERT INTO students VALUES (?,?,?,?,?,?)\",(None,'Mark',None,69,174,'1989-11-03'))\n",
    "        con.execute(\"INSERT INTO students VALUES (?,?,?,?,?,?)\",('Tom',None,72,182,'1989-11-03'))\n",
    "\n",
    "        # When exception occurs, we use rollback() method to revert changes \n",
    "except sqlite3.IntegrityError:\n",
    "    print(\"IntegrityError:couldn't add record with null surname\")\n",
    "    con.rollback()\n",
    "except sqlite3.ProgrammingError:\n",
    "    print(\"ProgrammingError:table does not exist\")\n",
    "    con.rollback()\n",
    "except sqlite3.Error:\n",
    "    print(\"Error:general db erorr\")\n",
    "    con.rollback()\n",
    "    \n",
    "# We close the connection and free all resources\n",
    "conn.close()"
   ]
  },
  {
   "cell_type": "code",
   "execution_count": null,
   "metadata": {
    "collapsed": true
   },
   "outputs": [],
   "source": []
  }
 ],
 "metadata": {
  "kernelspec": {
   "display_name": "Python 3",
   "language": "python",
   "name": "python3"
  },
  "language_info": {
   "codemirror_mode": {
    "name": "ipython",
    "version": 3
   },
   "file_extension": ".py",
   "mimetype": "text/x-python",
   "name": "python",
   "nbconvert_exporter": "python",
   "pygments_lexer": "ipython3",
   "version": "3.6.2"
  }
 },
 "nbformat": 4,
 "nbformat_minor": 2
}
