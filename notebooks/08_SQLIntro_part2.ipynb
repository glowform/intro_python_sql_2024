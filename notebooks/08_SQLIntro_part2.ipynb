{
 "cells": [
  {
   "cell_type": "markdown",
   "metadata": {},
   "source": [
    "# Introduction to SQL (part2)"
   ]
  },
  {
   "cell_type": "markdown",
   "metadata": {},
   "source": [
    "Basing on information from previous class, we will introduce more advanced sql topics. We will consider:\n",
    "   * join statments,\n",
    "   * working with sets\n",
    "   * grouping and agregate functions,\n",
    "   * arithmetic operators + built-in math functions,\n",
    "   * subqueries,\n",
    "   * indexes,\n",
    "   * views,\n",
    "   * triggers.\n",
    "   \n",
    "During this class we will use data stored in testdb2.db database.We will connect to this database using sqlite3 package and the code given below:\n",
    "   "
   ]
  },
  {
   "cell_type": "code",
   "execution_count": 1,
   "metadata": {
    "collapsed": true
   },
   "outputs": [],
   "source": [
    "import sqlite3\n",
    "\n",
    "#We connect to testdb2.db database\n",
    "conn = sqlite3.connect('testdb2.db')\n",
    "\n",
    "#We close the connection and free all resources\n",
    "conn.close()"
   ]
  },
  {
   "cell_type": "markdown",
   "metadata": {},
   "source": [
    "The testdb2.db contains the following tables:\n",
    " * student\n",
    " * staff\n",
    " * specialistation\n",
    " * subject\n",
    " * student_subject\n",
    " \n",
    "**The free graphical tool SQLStudio (https://sqlitestudio.pl) can be used  to verify changes in given database.\n"
   ]
  },
  {
   "cell_type": "markdown",
   "metadata": {},
   "source": [
    "## JOIN statments"
   ]
  },
  {
   "cell_type": "markdown",
   "metadata": {},
   "source": [
    "Queries against a single table are certainly not rare, but you will find that most of your queries will require two, three, or even more tables. In the code below we wil use one out of three joins types:\n",
    "* join\n",
    "* inner join\n",
    "* outer join"
   ]
  },
  {
   "cell_type": "markdown",
   "metadata": {},
   "source": [
    "The easiest way to start is to put the student and specialisation tables into the from clause of a query."
   ]
  },
  {
   "cell_type": "code",
   "execution_count": 2,
   "metadata": {},
   "outputs": [
    {
     "name": "stdout",
     "output_type": "stream",
     "text": [
      "('Tom', 'Silver', 'QF')\n",
      "('Tom', 'Silver', 'Finance&Accounting')\n",
      "('Alex', 'Great', 'QF')\n",
      "('Alex', 'Great', 'Finance&Accounting')\n",
      "('Michael', 'Jordan', 'QF')\n",
      "('Michael', 'Jordan', 'Finance&Accounting')\n",
      "('Ann', 'Green', 'QF')\n",
      "('Ann', 'Green', 'Finance&Accounting')\n",
      "('Jack', 'Gold', 'QF')\n",
      "('Jack', 'Gold', 'Finance&Accounting')\n",
      "('Jack', 'Smith', 'QF')\n",
      "('Jack', 'Smith', 'Finance&Accounting')\n"
     ]
    }
   ],
   "source": [
    "import sqlite3\n",
    "\n",
    "conn = sqlite3.connect('testdb2.db')\n",
    "\n",
    "c = conn.cursor()\n",
    "\n",
    "\n",
    "c.execute(\"SELECT e.name,e.surname,d.name FROM student e join specialisation d\")\n",
    "\n",
    "\n",
    "#get all results,assign them to the list,fecthall() returns empty list if no results\n",
    "listOfResults=c.fetchall()\n",
    "for item in listOfResults:\n",
    "    print(item)\n",
    "\n",
    "\n",
    "# Save (commit) the changes\n",
    "conn.commit()\n",
    "\n",
    "# We close the connection and free all resources\n",
    "conn.close()"
   ]
  },
  {
   "cell_type": "markdown",
   "metadata": {},
   "source": [
    "The code above returns 30 rows. However, we have only 10 students.  The reason of such result is one: the query didn’t specify how the two tables should be joined, the database server generated the Cartesian product, which is every permutation of the two tables."
   ]
  },
  {
   "cell_type": "markdown",
   "metadata": {},
   "source": [
    "### INNER JOIN"
   ]
  },
  {
   "cell_type": "markdown",
   "metadata": {},
   "source": [
    "If we want to obtain only expected 10 rows, then we should modify our query and use inner join statment. We need to describe how the two tables are related. Earlier, we showed that the student.spec_id column serves as the link between the two tables,\n",
    "so this information needs to be added to the on subclause of the from clause.\n",
    "\n",
    "#### Two tables"
   ]
  },
  {
   "cell_type": "code",
   "execution_count": 4,
   "metadata": {},
   "outputs": [
    {
     "name": "stdout",
     "output_type": "stream",
     "text": [
      "\n",
      "Present all data in student table:\n",
      "(1, 'Tom', 'Silver', 1996, 70, 176, 1)\n",
      "(2, 'Alex', 'Great', 1995, 60, 164, None)\n",
      "(3, 'Michael', 'Jordan', 1975, 95, 201, None)\n",
      "(4, 'Ann', 'Green', 1996, 50, 168, None)\n",
      "(5, 'Jack', 'Gold', 1996, 80, 190, None)\n",
      "(6, 'Jack', 'Smith', 1996, 75, 175, None)\n",
      "\n",
      "Present all data in specialisation table:\n",
      "(1, 'QF')\n",
      "(2, 'Finance&Accounting')\n",
      "\n",
      " inner join results below:\n",
      "('Tom', 'Silver', 'QF')\n"
     ]
    }
   ],
   "source": [
    "def printAll(listOfResultsA):\n",
    "    for item in listOfResultsA:\n",
    "        print(item)\n",
    "    \n",
    "\n",
    "import sqlite3\n",
    "\n",
    "conn = sqlite3.connect('testdb2.db')\n",
    "\n",
    "c = conn.cursor()\n",
    "\n",
    "c.execute(\"Select * from student\")\n",
    "print(\"\\nPresent all data in student table:\")\n",
    "print([description[0] for description in c.description])\n",
    "printAll(c.fetchall())\n",
    "\n",
    "c.execute(\"Select * from specialisation\")\n",
    "print(\"\\nPresent all data in specialisation table:\")\n",
    "print([description[0] for description in c.description])\n",
    "printAll(c.fetchall())\n",
    "\n",
    "\n",
    "print(\"\\n inner join results below:\")\n",
    "c.execute(\"SELECT e.name,e.surname,d.name FROM student e inner join specialisation d on e.spec_id=d.spec_id\")\n",
    "\n",
    "\n",
    "#get all results,assign them to the list,fecthall() returns empty list if no results\n",
    "listOfResults=c.fetchall()\n",
    "printAll(listOfResults)\n",
    "\n",
    "\n",
    "# Save (commit) the changes\n",
    "conn.commit()\n",
    "\n",
    "# We close the connection and free all resources\n",
    "conn.close()"
   ]
  },
  {
   "cell_type": "markdown",
   "metadata": {},
   "source": [
    "If a value exists for the spec_id column in one table but not the other, then the join fails for the rows containing that value and those rows are excluded from the result set.Printed results confirm previous statment while we do not the row which contains None value in spec_id column.\n",
    "\n",
    "*If we do not specify the type of join, then the server will use an inner join by default.\n",
    "\n",
    "Below we present, how we can join data from more than two tables.\n",
    "\n",
    "#### Three tables"
   ]
  },
  {
   "cell_type": "code",
   "execution_count": 9,
   "metadata": {},
   "outputs": [
    {
     "name": "stdout",
     "output_type": "stream",
     "text": [
      "\n",
      "Present all data in student table:\n",
      "['student_id', 'name', 'surname', 'birth', 'weight', 'height', 'spec_id']\n",
      "(1, 'Tom', 'Silver', 1996, 70, 176, 1)\n",
      "(2, 'Alex', 'Great', 1995, 60, 164, None)\n",
      "(3, 'Michael', 'Jordan', 1975, 95, 201, None)\n",
      "(4, 'Ann', 'Green', 1996, 50, 168, None)\n",
      "(5, 'Jack', 'Gold', 1996, 80, 190, None)\n",
      "(6, 'Jack', 'Smith', 1996, 75, 175, None)\n",
      "\n",
      "Present all data in subject table:\n",
      "['subject_id', 'name']\n",
      "(1, 'Python&SQL Intro')\n",
      "(2, 'Advanced Macroeconomics')\n",
      "\n",
      "Present all data in student_subject table:\n",
      "['id', 'student_id', 'subject_id', 'grade']\n",
      "(1, 1, 1, 5)\n",
      "(2, 2, 1, 4)\n",
      "(3, 3, 1, 3)\n",
      "(4, 4, 1, 4)\n",
      "\n",
      "print inner join results below:\n",
      "('Tom', 'Silver', 'Python&SQL Intro', 5)\n"
     ]
    }
   ],
   "source": [
    "\n",
    "import sqlite3\n",
    "\n",
    "conn = sqlite3.connect('testdb2.db')\n",
    "\n",
    "c = conn.cursor()\n",
    "\n",
    "c.execute(\"Select * from student\")\n",
    "print(\"\\nPresent all data in student table:\")\n",
    "print([description[0] for description in c.description])\n",
    "printAll(c.fetchall())\n",
    "\n",
    "\n",
    "c.execute(\"Select * from subject\")\n",
    "print(\"\\nPresent all data in subject table:\")\n",
    "print([description[0] for description in c.description])\n",
    "printAll(c.fetchall())\n",
    "\n",
    "\n",
    "c.execute(\"Select * from student_subject\")\n",
    "print(\"\\nPresent all data in student_subject table:\")\n",
    "print([description[0] for description in c.description])\n",
    "printAll(c.fetchall())\n",
    "\n",
    "print(\"\\nprint inner join results below:\")\n",
    "c.execute(\"SELECT e.name,e.surname,s.name,d.grade FROM student e inner join student_subject d on e.student_id=d.student_id \\\n",
    "          inner join subject s on d.subject_id=s.subject_id where d.grade>4\")\n",
    "\n",
    "\n",
    "#get all results,assign them to the list,fecthall() returns empty list if no results\n",
    "listOfResults=c.fetchall()\n",
    "printAll(listOfResults)\n",
    "\n",
    "\n",
    "# Save (commit) the changes\n",
    "conn.commit()\n",
    "\n",
    "# We close the connection and free all resources\n",
    "conn.close()"
   ]
  },
  {
   "cell_type": "markdown",
   "metadata": {},
   "source": [
    "## OUTER JOIN"
   ]
  },
  {
   "cell_type": "markdown",
   "metadata": {},
   "source": [
    "Let's assume that, we want to obtain the list of students and their specialistation (also the cases when specialisation was not chosen). The inner join conditions will fail to find matches for all the rows in the students table,while some students did not make decision about their specialistion. This time the correct resul can be obtained withe outer join.\n",
    "\n",
    "#### Left outer join\n",
    "\n",
    "The keyword left indicates that the table on the left side of the join is responsible for determining the number of rows in the result set, whereas the table on the right side is used to provide column values whenever a match is found."
   ]
  },
  {
   "cell_type": "code",
   "execution_count": 10,
   "metadata": {},
   "outputs": [
    {
     "name": "stdout",
     "output_type": "stream",
     "text": [
      "\n",
      "Present all data in student table:\n",
      "(1, 'Tom', 'Silver', 1996, 70, 176, 1)\n",
      "(2, 'Alex', 'Great', 1995, 60, 164, None)\n",
      "(3, 'Michael', 'Jordan', 1975, 95, 201, None)\n",
      "(4, 'Ann', 'Green', 1996, 50, 168, None)\n",
      "(5, 'Jack', 'Gold', 1996, 80, 190, None)\n",
      "(6, 'Jack', 'Smith', 1996, 75, 175, None)\n",
      "\n",
      " left outer join results below:\n",
      "('Tom', 'Silver', 'QF')\n",
      "('Alex', 'Great', None)\n",
      "('Michael', 'Jordan', None)\n",
      "('Ann', 'Green', None)\n",
      "('Jack', 'Gold', None)\n",
      "('Jack', 'Smith', None)\n",
      "\n",
      " right outer join results below:\n"
     ]
    },
    {
     "ename": "OperationalError",
     "evalue": "RIGHT and FULL OUTER JOINs are not currently supported",
     "output_type": "error",
     "traceback": [
      "\u001b[0;31m---------------------------------------------------------------------------\u001b[0m",
      "\u001b[0;31mOperationalError\u001b[0m                          Traceback (most recent call last)",
      "\u001b[0;32m<ipython-input-10-029a18c79155>\u001b[0m in \u001b[0;36m<module>\u001b[0;34m()\u001b[0m\n\u001b[1;32m     23\u001b[0m \u001b[0;34m\u001b[0m\u001b[0m\n\u001b[1;32m     24\u001b[0m \u001b[0mprint\u001b[0m\u001b[0;34m(\u001b[0m\u001b[0;34m\"\\n right outer join results below:\"\u001b[0m\u001b[0;34m)\u001b[0m\u001b[0;34m\u001b[0m\u001b[0m\n\u001b[0;32m---> 25\u001b[0;31m \u001b[0mc\u001b[0m\u001b[0;34m.\u001b[0m\u001b[0mexecute\u001b[0m\u001b[0;34m(\u001b[0m\u001b[0;34m\"SELECT e.name,e.surname,d.name FROM student e right outer join specialisation d on e.spec_id=d.spec_id\"\u001b[0m\u001b[0;34m)\u001b[0m\u001b[0;34m\u001b[0m\u001b[0m\n\u001b[0m\u001b[1;32m     26\u001b[0m \u001b[0;34m\u001b[0m\u001b[0m\n\u001b[1;32m     27\u001b[0m \u001b[0;34m\u001b[0m\u001b[0m\n",
      "\u001b[0;31mOperationalError\u001b[0m: RIGHT and FULL OUTER JOINs are not currently supported"
     ]
    }
   ],
   "source": [
    "def printAll(listOfResultsA):\n",
    "    for item in listOfResultsA:\n",
    "        print(item)\n",
    "    \n",
    "\n",
    "import sqlite3\n",
    "\n",
    "conn = sqlite3.connect('testdb2.db')\n",
    "\n",
    "c = conn.cursor()\n",
    "\n",
    "c.execute(\"Select * from student\")\n",
    "print(\"\\nPresent all data in student table:\")\n",
    "printAll(c.fetchall())\n",
    "\n",
    "print(\"\\n left outer join results below:\")\n",
    "c.execute(\"SELECT e.name,e.surname,d.name FROM student e left outer join specialisation d on e.spec_id=d.spec_id\")\n",
    "\n",
    "\n",
    "#get all results,assign them to the list,fecthall() returns empty list if no results\n",
    "printAll(c.fetchall())\n",
    "\n",
    "\n",
    "print(\"\\n right outer join results below:\")\n",
    "c.execute(\"SELECT e.name,e.surname,d.name FROM student e right outer join specialisation d on e.spec_id=d.spec_id\")\n",
    "\n",
    "\n",
    "#get all results,assign them to the list,fecthall() returns empty list if no results\n",
    "printAll(c.fetchall())\n",
    "\n",
    "# Save (commit) the changes\n",
    "conn.commit()\n",
    "\n",
    "# We close the connection and free all resources\n",
    "conn.close()"
   ]
  },
  {
   "cell_type": "markdown",
   "metadata": {},
   "source": [
    "*Right outer join is not supported in SQLite. However, the other database systems (MySQL,Oracle) allow us to use it. The expected result is the output table in which number of rows is equal to the number of rows in specialisation table  "
   ]
  },
  {
   "cell_type": "markdown",
   "metadata": {},
   "source": [
    "## Working with sets"
   ]
  },
  {
   "cell_type": "markdown",
   "metadata": {},
   "source": [
    "### UNION and UNION ALL statment"
   ]
  },
  {
   "cell_type": "markdown",
   "metadata": {},
   "source": [
    "The SQLite UNION/UNION ALL operator is used to combine the result sets of 2 or more SELECT statements.\n",
    "Each SELECT statement within the UNION operator must have the same number of fields in the result sets with similar data type.\n",
    "Remeber,UNION statment sorts results and removes duplicates from the output set!\n",
    "\n",
    "<img src=\"union.png\">\n"
   ]
  },
  {
   "cell_type": "markdown",
   "metadata": {},
   "source": [
    "### EXCEPT statment"
   ]
  },
  {
   "cell_type": "markdown",
   "metadata": {},
   "source": [
    "The EXCEPT operator will retrieve all records from the first dataset and then remove from the results all records from the second dataset.Each SELECT statement within the EXCEPT query must have the same number of fields in the result sets with similar data types\n",
    "<img src=\"except.png\">"
   ]
  },
  {
   "cell_type": "markdown",
   "metadata": {},
   "source": [
    "### INTERSECT statment"
   ]
  },
  {
   "cell_type": "markdown",
   "metadata": {},
   "source": [
    "The INTERSECT operator returns the intersection of 2 or more datasets. Each dataset is defined by a SELECT statement. If the record exists in both data set, then it will be included in the results.\n",
    "\n",
    "<img src=\"intersect.png\">"
   ]
  },
  {
   "cell_type": "code",
   "execution_count": 11,
   "metadata": {},
   "outputs": [
    {
     "name": "stdout",
     "output_type": "stream",
     "text": [
      "\n",
      "Present all data in student table:\n",
      "(1, 'Tom', 'Silver', 1996, 70, 176, 1)\n",
      "(2, 'Alex', 'Great', 1995, 60, 164, None)\n",
      "(3, 'Michael', 'Jordan', 1975, 95, 201, None)\n",
      "(4, 'Ann', 'Green', 1996, 50, 168, None)\n",
      "(5, 'Jack', 'Gold', 1996, 80, 190, None)\n",
      "(6, 'Jack', 'Smith', 1996, 75, 175, None)\n",
      "\n",
      " union results below:\n",
      "(1, 'Alfred', 'Brown')\n",
      "(1, 'Tom', 'Silver')\n",
      "(2, 'Alex', 'Great')\n",
      "(2, 'Tom', 'White')\n",
      "(3, 'Michael', 'Jordan')\n",
      "(4, 'Ann', 'Green')\n",
      "(5, 'Jack', 'Gold')\n",
      "(6, 'Jack', 'Smith')\n",
      "\n",
      " union all results below:\n",
      "(1, 'Tom', 'Silver')\n",
      "(2, 'Alex', 'Great')\n",
      "(3, 'Michael', 'Jordan')\n",
      "(4, 'Ann', 'Green')\n",
      "(5, 'Jack', 'Gold')\n",
      "(6, 'Jack', 'Smith')\n",
      "(1, 'Alfred', 'Brown')\n",
      "(2, 'Tom', 'White')\n",
      "(3, 'Michael', 'Jordan')\n",
      "\n",
      " except statment results below:\n",
      "(1, 'Tom', 'Silver')\n",
      "(2, 'Alex', 'Great')\n",
      "(4, 'Ann', 'Green')\n",
      "(5, 'Jack', 'Gold')\n",
      "(6, 'Jack', 'Smith')\n",
      "\n",
      " intersect statment results below:\n",
      "(3, 'Michael', 'Jordan')\n"
     ]
    }
   ],
   "source": [
    "def printAll(listOfResultsA):\n",
    "    for item in listOfResultsA:\n",
    "        print(item)\n",
    "    \n",
    "\n",
    "import sqlite3\n",
    "\n",
    "conn = sqlite3.connect('testdb2.db')\n",
    "\n",
    "c = conn.cursor()\n",
    "\n",
    "c.execute(\"Select * from student\")\n",
    "print(\"\\nPresent all data in student table:\")\n",
    "printAll(c.fetchall())\n",
    "\n",
    "#UNION\n",
    "print(\"\\n union results below:\")\n",
    "c.execute(\"SELECT e.student_id,e.name,e.surname FROM student e union SELECT s.staff_id,s.name,s.surname FROM staff s\")\n",
    "\n",
    "\n",
    "#get all results,assign them to the list,fecthall() returns empty list if no results\n",
    "printAll(c.fetchall())\n",
    "\n",
    "#UNION ALL\n",
    "print(\"\\n union all results below:\")\n",
    "c.execute(\"SELECT e.student_id,e.name,e.surname FROM student e union all SELECT s.staff_id,s.name,s.surname FROM staff s\")\n",
    "\n",
    "\n",
    "#get all results,assign them to the list,fecthall() returns empty list if no results\n",
    "printAll(c.fetchall())\n",
    "\n",
    "\n",
    "#EXCEPT\n",
    "\n",
    "print(\"\\n except statment results below:\")\n",
    "c.execute(\"SELECT e.student_id,e.name,e.surname FROM student e except SELECT s.staff_id,s.name,s.surname FROM staff s\")\n",
    "\n",
    "\n",
    "#get all results,assign them to the list,fecthall() returns empty list if no results\n",
    "printAll(c.fetchall())\n",
    "\n",
    "\n",
    "#INTERSECT\n",
    "print(\"\\n intersect statment results below:\")\n",
    "c.execute(\"SELECT e.student_id,e.name,e.surname FROM student e intersect SELECT s.staff_id,s.name,s.surname FROM staff s\")\n",
    "\n",
    "\n",
    "#get all results,assign them to the list,fecthall() returns empty list if no results\n",
    "printAll(c.fetchall())\n",
    "\n",
    "# Save (commit) the changes\n",
    "conn.commit()\n",
    "\n",
    "# We close the connection and free all resources\n",
    "conn.close()"
   ]
  },
  {
   "cell_type": "markdown",
   "metadata": {},
   "source": [
    "### Grouping and agregate functions"
   ]
  },
  {
   "cell_type": "markdown",
   "metadata": {},
   "source": [
    "The other important feature of SQLite is the trends analysis. Let's say, that we need to know how many students were born during each year. We use GROUP BY and COUNT(*) statments for that task. The GROUP BY statment divides the data basing on info stored in selected column (here column name is birth) or columns,while COUNT(*) calculates number of rows in each group.  "
   ]
  },
  {
   "cell_type": "markdown",
   "metadata": {},
   "source": [
    "#### GROUP BY"
   ]
  },
  {
   "cell_type": "code",
   "execution_count": 57,
   "metadata": {},
   "outputs": [
    {
     "name": "stdout",
     "output_type": "stream",
     "text": [
      "\n",
      "Select all data from stduents table:\n",
      "(1, 'Tom', 'Silver', 1996, 70, 176, 1)\n",
      "(2, 'Alex', 'Great', 1995, 60, 164, None)\n",
      "(3, 'Michael', 'Jordan', 1975, 95, 201, None)\n",
      "(4, 'Ann', 'Green', 1996, 50, 168, None)\n",
      "(5, 'Jack', 'Gold', 1996, 80, 190, None)\n",
      "(6, 'Jack', 'Smith', 1996, 75, 175, None)\n",
      "\n",
      " GROUP BY statment results below (columns: birth,count):\n",
      "(1975, 1)\n",
      "(1995, 1)\n",
      "(1996, 4)\n"
     ]
    }
   ],
   "source": [
    "def printAll(listOfResultsA):\n",
    "    for item in listOfResultsA:\n",
    "        print(item)\n",
    "    \n",
    "\n",
    "import sqlite3\n",
    "\n",
    "conn = sqlite3.connect('testdb2.db')\n",
    "\n",
    "c = conn.cursor()\n",
    "\n",
    "c.execute(\"Select * from student\")\n",
    "print(\"\\nPresent all data in student table:\")\n",
    "printAll(c.fetchall())\n",
    "\n",
    "#GROUP BY\n",
    "print(\"\\n GROUP BY statment results below (columns: birth,count):\")\n",
    "c.execute(\"SELECT e.birth,COUNT(*) FROM student e GROUP BY e.birth \")\n",
    "\n",
    "\n",
    "#get all results,assign them to the list,fecthall() returns empty list if no results\n",
    "printAll(c.fetchall())\n",
    "\n",
    "\n",
    "# Save (commit) the changes\n",
    "conn.commit()\n",
    "\n",
    "# We close the connection and free all resources\n",
    "conn.close()"
   ]
  },
  {
   "cell_type": "markdown",
   "metadata": {},
   "source": [
    "#### Agregate functions"
   ]
  },
  {
   "cell_type": "markdown",
   "metadata": {},
   "source": [
    "Aggregate functions perform a specific operation over all rows in a group. Although\n",
    "every database server has its own set of specialty aggregate functions, the common\n",
    "aggregate functions implemented by all major servers include:\n",
    "    \n",
    "    * Max() Returns the maximum value within a set\n",
    "    * Min() Returns the minimum value within a set\n",
    "    * Avg() Returns the average value across a set\n",
    "    * Sum() Returns the sum of the values across a set\n",
    "    * Count() Returns the number of values in a set"
   ]
  },
  {
   "cell_type": "code",
   "execution_count": 60,
   "metadata": {},
   "outputs": [
    {
     "name": "stdout",
     "output_type": "stream",
     "text": [
      "\n",
      "Select all data from stduents table:\n",
      "(1, 'Tom', 'Silver', 1996, 70, 176, 1)\n",
      "(2, 'Alex', 'Great', 1995, 60, 164, None)\n",
      "(3, 'Michael', 'Jordan', 1975, 95, 201, None)\n",
      "(4, 'Ann', 'Green', 1996, 50, 168, None)\n",
      "(5, 'Jack', 'Gold', 1996, 80, 190, None)\n",
      "(6, 'Jack', 'Smith', 1996, 75, 175, None)\n",
      "\n",
      "GROUP BY statment results for each birth year below (columns: max_weight,min_weight,avg_weight,count):\n",
      "(95, 95, 95.0, 1)\n",
      "(60, 60, 60.0, 1)\n",
      "(80, 50, 68.75, 4)\n"
     ]
    }
   ],
   "source": [
    "def printAll(listOfResultsA):\n",
    "    for item in listOfResultsA:\n",
    "        print(item)\n",
    "    \n",
    "\n",
    "import sqlite3\n",
    "\n",
    "conn = sqlite3.connect('testdb2.db')\n",
    "\n",
    "c = conn.cursor()\n",
    "\n",
    "c.execute(\"Select * from student\")\n",
    "print(\"\\nPresent all data in student table:\")\n",
    "printAll(c.fetchall())\n",
    "\n",
    "#GROUP BY+agregate functions\n",
    "print(\"\\nGROUP BY statment results for each birth year below (columns: max_weight,min_weight,avg_weight,count):\")\n",
    "c.execute(\"SELECT MAX(e.weight),MIN(e.weight),AVG(e.weight),COUNT(*) FROM student e GROUP BY e.birth \")\n",
    "\n",
    "\n",
    "#get all results,assign them to the list,fecthall() returns empty list if no results\n",
    "printAll(c.fetchall())\n",
    "\n",
    "\n",
    "# Save (commit) the changes\n",
    "conn.commit()\n",
    "\n",
    "# We close the connection and free all resources\n",
    "conn.close()"
   ]
  },
  {
   "cell_type": "markdown",
   "metadata": {},
   "source": [
    "### Arithmetic operators + built-in math functions"
   ]
  },
  {
   "cell_type": "markdown",
   "metadata": {},
   "source": [
    "In SQLite, we can use standard arithmetic operators (+,-,*/) and many built-in math functions which we cane use to operate on \n",
    "values stored in columns:\n",
    "    * Acos(x) Calculates the arc cosine of x\n",
    "    * Asin(x) Calculates the arc sine of x\n",
    "    * Atan(x) Calculates the arc tangent of x\n",
    "    * Cos(x) Calculates the cosine of x\n",
    "    * Cot(x) Calculates the cotangent of x\n",
    "    * Exp(x) Calculates ex\n",
    "    * Abs(x) Calculates absolute value of x\n",
    "    * Ln(x) Calculates the natural log of x\n",
    "    * Sin(x) Calculates the sine of x\n",
    "    * Sqrt(x) Calculates the square root of x\n",
    "    * Tan(x) Calculates the tangent of x\n",
    "\n",
    "*Remember,when we divide one integer value by second integer value the result is closest integer value.\n",
    "If we want to obtain correct results we should use CAST() function and covert values to float. Precision of printed results can be set with ROUND(arg1,arg2) function, where arg2 points number of decimal places in the ouput.\n",
    "\n",
    "We calculate BMI values for each student in the example below:"
   ]
  },
  {
   "cell_type": "code",
   "execution_count": 72,
   "metadata": {},
   "outputs": [
    {
     "name": "stdout",
     "output_type": "stream",
     "text": [
      "\n",
      "Present all data in students table:\n",
      "(1, 'Tom', 'Silver', 1996, 70, 176, 1)\n",
      "(2, 'Alex', 'Great', 1995, 60, 164, None)\n",
      "(3, 'Michael', 'Jordan', 1975, 95, 201, None)\n",
      "(4, 'Ann', 'Green', 1996, 50, 168, None)\n",
      "(5, 'Jack', 'Gold', 1996, 80, 190, None)\n",
      "(6, 'Jack', 'Smith', 1996, 75, 175, None)\n",
      "\n",
      "BMI results for each student below:\n",
      "(1, 'Tom', 'Silver', 70, 176, 22.59814049586777, 22.6)\n",
      "(2, 'Alex', 'Great', 60, 164, 22.3081499107674, 22.31)\n",
      "(3, 'Michael', 'Jordan', 95, 201, 23.514269448776027, 23.51)\n",
      "(4, 'Ann', 'Green', 50, 168, 17.715419501133788, 17.72)\n",
      "(5, 'Jack', 'Gold', 80, 190, 22.1606648199446, 22.16)\n",
      "(6, 'Jack', 'Smith', 75, 175, 24.489795918367346, 24.49)\n"
     ]
    }
   ],
   "source": [
    "def printAll(listOfResultsA):\n",
    "    for item in listOfResultsA:\n",
    "        print(item)\n",
    "    \n",
    "\n",
    "import sqlite3\n",
    "\n",
    "conn = sqlite3.connect('testdb2.db')\n",
    "\n",
    "c = conn.cursor()\n",
    "\n",
    "c.execute(\"Select * from student\")\n",
    "print(\"\\nPresent all data in student table:\")\n",
    "printAll(c.fetchall())\n",
    "\n",
    "#calculate BMI values\n",
    "print(\"\\nBMI results for each student below:\")\n",
    "c.execute(\"SELECT e.student_id,e.name,e.surname,e.weight,e.height, \\\n",
    "          CAST(e.weight as FLOAT)/(CAST(e.height as float)/100 *CAST(e.height as float)/100), \\\n",
    "          ROUND(CAST(e.weight as FLOAT)/(CAST(e.height as float)/100 *CAST(e.height as float)/100),2) \\\n",
    "          FROM student e\")\n",
    "\n",
    "\n",
    "#get all results,assign them to the list,fecthall() returns empty list if no results\n",
    "printAll(c.fetchall())\n",
    "\n",
    "\n",
    "# Save (commit) the changes\n",
    "conn.commit()\n",
    "\n",
    "# We close the connection and free all resources\n",
    "conn.close()"
   ]
  },
  {
   "cell_type": "markdown",
   "metadata": {},
   "source": [
    "### Subqueries"
   ]
  },
  {
   "cell_type": "markdown",
   "metadata": {},
   "source": [
    "A subquery is a query contained within another SQL statement. A subquery is always enclosed within parentheses and returns result set which can consist of:\n",
    " * A single row with a single column (example below)\n",
    " * Multiple rows with a single column (example below)\n",
    " * Multiple rows and columns\n",
    " \n",
    " Remeber,when subquery returns many rows then in WHERE statment we should use IN or NOT IN operator.\n"
   ]
  },
  {
   "cell_type": "code",
   "execution_count": 83,
   "metadata": {
    "scrolled": true
   },
   "outputs": [
    {
     "name": "stdout",
     "output_type": "stream",
     "text": [
      "\n",
      "Present all data in students table:\n",
      "(1, 'Tom', 'Silver', 1996, 70, 176, 1)\n",
      "(2, 'Alex', 'Great', 1995, 60, 164, None)\n",
      "(3, 'Michael', 'Jordan', 1975, 95, 201, None)\n",
      "(4, 'Ann', 'Green', 1996, 50, 168, None)\n",
      "(5, 'Jack', 'Gold', 1996, 80, 190, None)\n",
      "(6, 'Jack', 'Smith', 1996, 75, 175, None)\n",
      "\n",
      "name and surname of of the student who got 5:\n",
      "(1, 'Tom', 'Silver')\n",
      "\n",
      "names and surnames of students who got 4:\n",
      "(2, 'Alex', 'Great')\n",
      "(4, 'Ann', 'Green')\n"
     ]
    }
   ],
   "source": [
    "def printAll(listOfResultsA):\n",
    "    for item in listOfResultsA:\n",
    "        print(item)\n",
    "    \n",
    "\n",
    "import sqlite3\n",
    "\n",
    "conn = sqlite3.connect('testdb2.db')\n",
    "\n",
    "c = conn.cursor()\n",
    "\n",
    "c.execute(\"Select * from student\")\n",
    "print(\"\\nPresent all data in student table:\")\n",
    "printAll(c.fetchall())\n",
    "\n",
    "#return the name and surname of the student, who got 5,\n",
    "#subquery returns single row and single column\n",
    "print(\"\\nname and surname of of the student who got 5:\")\n",
    "c.execute(\"SELECT e.student_id,e.name,e.surname \\\n",
    "          FROM students e where e.student_id=\\\n",
    "          (SELECT s.student_id from student_subject s where s.grade=5)\")\n",
    "\n",
    "#get all results,assign them to the list,fecthall() returns empty list if no results\n",
    "printAll(c.fetchall())\n",
    "\n",
    "\n",
    "#return the name and surname of the students, who got 4,\n",
    "#subquery returns multiple rows and single column\n",
    "print(\"\\nnames and surnames of the students who got 4:\")\n",
    "c.execute(\"SELECT e.student_id,e.name,e.surname \\\n",
    "          FROM student e where e.student_id IN \\\n",
    "          (SELECT s.student_id from student_subject s where s.grade=4)\")\n",
    "\n",
    "#get all results,assign them to the list,fecthall() returns empty list if no results\n",
    "printAll(c.fetchall())\n",
    "\n",
    "\n",
    "# Save (commit) the changes\n",
    "conn.commit()\n",
    "\n",
    "# We close the connection and free all resources\n",
    "conn.close()"
   ]
  },
  {
   "cell_type": "markdown",
   "metadata": {},
   "source": [
    "### INDEXES"
   ]
  },
  {
   "cell_type": "markdown",
   "metadata": {},
   "source": [
    "When we execute INSERT statment,the database server does not  put new record in any particular location within the table. Server places the data in the next free location within the file. When you query the student table for students whose name starts with 'J', the server will need to analyse every row of the table. \n",
    "\n",
    "You can decide to add an extra index to student table to speed up any queries that specify student name.\n",
    "If exists more than one index on a table,the optimizer decides which index will be the most beneficial for a particular SQL\n",
    "statement.\n",
    "\n",
    "#### CREATE INDEX\n",
    "We create new index using CREATE INDEX statment. If you create an index that consists of one column, SQLite uses that column as the sort key. In case you create an index that has multiple columns, SQLite uses the additional columns as the second, third, … sort keys.\n"
   ]
  },
  {
   "cell_type": "code",
   "execution_count": 109,
   "metadata": {},
   "outputs": [
    {
     "name": "stdout",
     "output_type": "stream",
     "text": [
      "\n",
      "we add extra index on column 'name' in student table\n",
      "\n",
      "we add extra index on two columns: 'weight' and 'height' in student table\n"
     ]
    }
   ],
   "source": [
    "import sqlite3\n",
    "\n",
    "conn = sqlite3.connect('testdb2.db')\n",
    "\n",
    "c = conn.cursor()\n",
    "\n",
    "#add extra index on one column \n",
    "print(\"\\nwe add extra index on column 'name' in student table\")\n",
    "c.execute(\"CREATE INDEX idx_student_name ON student (name)\")\n",
    "\n",
    "#get all results,assign them to the list,fecthall() returns empty list if no results\n",
    "printAll(c.fetchall())\n",
    "\n",
    "#add extra index on two columns \n",
    "print(\"\\nwe add extra index on two columns: 'weight' and 'height' in student table\")\n",
    "c.execute(\"CREATE INDEX idx_student_weight_height ON student (weight,height)\")\n",
    "\n",
    "#get all results,assign them to the list,fecthall() returns empty list if no results\n",
    "printAll(c.fetchall())\n",
    "\n",
    "# Save (commit) the changes\n",
    "conn.commit()\n",
    "\n",
    "# We close the connection and free all resources\n",
    "conn.close()"
   ]
  },
  {
   "cell_type": "markdown",
   "metadata": {},
   "source": [
    "The code below, returns all the students, whose name starts with 'J':\n"
   ]
  },
  {
   "cell_type": "code",
   "execution_count": 106,
   "metadata": {},
   "outputs": [
    {
     "name": "stdout",
     "output_type": "stream",
     "text": [
      "\n",
      "Present all data in student table:\n",
      "(1, 'Tom', 'Silver', 1996, 70, 176, 1)\n",
      "(2, 'Alex', 'Great', 1995, 60, 164, None)\n",
      "(3, 'Michael', 'Jordan', 1975, 95, 201, None)\n",
      "(4, 'Ann', 'Green', 1996, 50, 168, None)\n",
      "(5, 'Jack', 'Gold', 1996, 80, 190, None)\n",
      "(6, 'Jack', 'Smith', 1996, 75, 175, None)\n",
      "\n",
      "students whose name starts with 'J':\n",
      "(5, 'Jack', 'Gold')\n",
      "(6, 'Jack', 'Smith')\n"
     ]
    }
   ],
   "source": [
    "def printAll(listOfResultsA):\n",
    "    for item in listOfResultsA:\n",
    "        print(item)\n",
    "    \n",
    "\n",
    "import sqlite3\n",
    "\n",
    "conn = sqlite3.connect('testdb2.db')\n",
    "\n",
    "c = conn.cursor()\n",
    "\n",
    "c.execute(\"Select * from student\")\n",
    "print(\"\\nPresent all data in student table:\")\n",
    "printAll(c.fetchall())\n",
    "\n",
    "#return students whose name starts with J'\n",
    "print(\"\\nstudents whose name starts with 'J':\")\n",
    "c.execute(\"SELECT e.student_id,e.name,e.surname from student e where e.name LIKE 'J%'\")\n",
    "\n",
    "#get all results,assign them to the list,fecthall() returns empty list if no results\n",
    "printAll(c.fetchall())\n",
    "\n",
    "\n",
    "# Save (commit) the changes\n",
    "conn.commit()\n",
    "\n",
    "# We close the connection and free all resources\n",
    "conn.close()"
   ]
  },
  {
   "cell_type": "markdown",
   "metadata": {},
   "source": [
    "#### DROP INDEX"
   ]
  },
  {
   "cell_type": "code",
   "execution_count": 110,
   "metadata": {},
   "outputs": [
    {
     "name": "stdout",
     "output_type": "stream",
     "text": [
      "\n",
      "we delete  idx_student_name index\n",
      "\n",
      "we delete  idx_student_weight_height\n"
     ]
    }
   ],
   "source": [
    "import sqlite3\n",
    "\n",
    "conn = sqlite3.connect('testdb2.db')\n",
    "\n",
    "c = conn.cursor()\n",
    "\n",
    "\n",
    "#delete index,\n",
    "print(\"\\nwe delete  idx_student_name index\")\n",
    "c.execute(\"DROP INDEX idx_student_name \")\n",
    "\n",
    "#get all results,assign them to the list,fecthall() returns empty list if no results\n",
    "printAll(c.fetchall())\n",
    "\n",
    "print(\"\\nwe delete  idx_student_weight_height\")\n",
    "c.execute(\"DROP INDEX idx_student_weight_height\")\n",
    "\n",
    "#get all results,assign them to the list,fecthall() returns empty list if no results\n",
    "printAll(c.fetchall())\n",
    "\n",
    "# Save (commit) the changes\n",
    "conn.commit()\n",
    "\n",
    "# We close the connection and free all resources\n",
    "conn.close()"
   ]
  },
  {
   "cell_type": "code",
   "execution_count": null,
   "metadata": {
    "collapsed": true
   },
   "outputs": [],
   "source": []
  }
 ],
 "metadata": {
  "kernelspec": {
   "display_name": "Python 3",
   "language": "python",
   "name": "python3"
  },
  "language_info": {
   "codemirror_mode": {
    "name": "ipython",
    "version": 3
   },
   "file_extension": ".py",
   "mimetype": "text/x-python",
   "name": "python",
   "nbconvert_exporter": "python",
   "pygments_lexer": "ipython3",
   "version": "3.8.5"
  }
 },
 "nbformat": 4,
 "nbformat_minor": 2
}
