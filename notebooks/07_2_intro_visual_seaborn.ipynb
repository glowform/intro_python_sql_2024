{
 "cells": [
  {
   "cell_type": "markdown",
   "metadata": {},
   "source": [
    "# Visualizations - Seaborn\n",
    "Seaborn is a commonly used library for visualizations (http://seaborn.pydata.org/index.html). It makes it fast and easy to create pretty charts. What is more, it has a great documentation full of interesting and inspiring examples. Examples in this notebook are taken from this gallery (http://seaborn.pydata.org/examples/index.html).\n",
    "\n",
    "%matplotlib command tells the notebook to show charts as output."
   ]
  },
  {
   "cell_type": "code",
   "execution_count": null,
   "metadata": {
    "ExecuteTime": {
     "end_time": "2021-12-08T11:19:27.236730Z",
     "start_time": "2021-12-08T11:19:27.232751Z"
    },
    "execution": {
     "iopub.execute_input": "2023-12-07T14:45:03.582334Z",
     "iopub.status.busy": "2023-12-07T14:45:03.581513Z",
     "iopub.status.idle": "2023-12-07T14:45:05.838969Z",
     "shell.execute_reply": "2023-12-07T14:45:05.837439Z",
     "shell.execute_reply.started": "2023-12-07T14:45:03.582254Z"
    },
    "trusted": true
   },
   "outputs": [],
   "source": [
    "%matplotlib inline\n",
    "import numpy as np\n",
    "import seaborn as sns\n",
    "import matplotlib\n",
    "import matplotlib.pyplot as plt\n",
    "import pandas as pd"
   ]
  },
  {
   "cell_type": "markdown",
   "metadata": {},
   "source": [
    "## Histograms\n",
    "You can get the simplest histograms using distplot. First, draw numbers from the normal distribution, then modify default size of the image. Seaborn is albo based on matplotlib, which is a basic Python library to draw."
   ]
  },
  {
   "cell_type": "code",
   "execution_count": null,
   "metadata": {
    "ExecuteTime": {
     "end_time": "2021-12-08T11:19:31.541499Z",
     "start_time": "2021-12-08T11:19:31.360892Z"
    },
    "execution": {
     "iopub.execute_input": "2023-12-07T14:47:27.759264Z",
     "iopub.status.busy": "2023-12-07T14:47:27.758878Z",
     "iopub.status.idle": "2023-12-07T14:47:28.543544Z",
     "shell.execute_reply": "2023-12-07T14:47:28.542324Z",
     "shell.execute_reply.started": "2023-12-07T14:47:27.759234Z"
    },
    "trusted": true
   },
   "outputs": [],
   "source": [
    "rs = np.random.RandomState(10)\n",
    "d = rs.normal(size=200)\n",
    "\n",
    "\n",
    "matplotlib.rcParams['figure.figsize'] = (5.0, 2.5)\n",
    "\n",
    "sns.distplot(d, kde=False)\n",
    "plt.show()\n",
    "\n",
    "sns.distplot(d, hist=False)\n",
    "plt.show()\n",
    "\n",
    "sns.distplot(d)\n",
    "plt.show()"
   ]
  },
  {
   "cell_type": "markdown",
   "metadata": {},
   "source": [
    "Default colors are quite readable and nice to look at. You have a few default styles available to use. If you do not like dark-grey color scheme, you may use bright one. Additionally, in the last chart you may fill the area under the distribution curve. despine gets rid of chart borders, which is added by default to \"white\" style."
   ]
  },
  {
   "cell_type": "code",
   "execution_count": null,
   "metadata": {
    "ExecuteTime": {
     "end_time": "2021-12-08T11:20:01.641252Z",
     "start_time": "2021-12-08T11:20:01.520886Z"
    },
    "execution": {
     "iopub.execute_input": "2023-12-07T14:48:55.503889Z",
     "iopub.status.busy": "2023-12-07T14:48:55.503457Z",
     "iopub.status.idle": "2023-12-07T14:48:55.849044Z",
     "shell.execute_reply": "2023-12-07T14:48:55.847536Z",
     "shell.execute_reply.started": "2023-12-07T14:48:55.503857Z"
    },
    "trusted": true
   },
   "outputs": [],
   "source": [
    "sns.set(style=\"white\", palette=\"pastel\", color_codes=True)\n",
    "plt.figure(figsize=(5.0, 2.5))\n",
    "sns.distplot(d, hist=True, color=\"b\", kde_kws={\"shade\": True})\n",
    "sns.despine(left=True, bottom=True)\n",
    "plt.show()"
   ]
  },
  {
   "cell_type": "markdown",
   "metadata": {},
   "source": [
    "## Charts of two variables\n",
    "Seaborn offers great possibilities to draw charts of two variables. Apart from the usual scatterplot (or extended with histograms) you may easily generate hexheatmap or  KDF chart."
   ]
  },
  {
   "cell_type": "code",
   "execution_count": null,
   "metadata": {
    "ExecuteTime": {
     "end_time": "2021-12-08T11:20:17.291880Z",
     "start_time": "2021-12-08T11:20:15.849411Z"
    },
    "execution": {
     "iopub.execute_input": "2023-12-07T14:51:35.684355Z",
     "iopub.status.busy": "2023-12-07T14:51:35.683960Z",
     "iopub.status.idle": "2023-12-07T14:51:39.180385Z",
     "shell.execute_reply": "2023-12-07T14:51:39.179497Z",
     "shell.execute_reply.started": "2023-12-07T14:51:35.684325Z"
    },
    "scrolled": true,
    "trusted": true
   },
   "outputs": [],
   "source": [
    "#height instead of size\n",
    "\n",
    "data = np.random.multivariate_normal([1,4],[[.5,.3], [.3,.8]],1000).T\n",
    "sns.set(style=\"white\", palette=\"muted\", color_codes=True)\n",
    "sns.jointplot(x=data[0], y=data[1], size=4)\n",
    "\n",
    "sns.jointplot(x=data[0], y=data[1], kind=\"hex\", height=4)\n",
    "sns.jointplot(x=data[0], y=data[1], kind=\"kde\", height=4)\n",
    "plt.show()"
   ]
  },
  {
   "cell_type": "markdown",
   "metadata": {},
   "source": [
    "## Many series on one chart\n",
    "The example below shows perfecly how to add more series to one chart."
   ]
  },
  {
   "cell_type": "code",
   "execution_count": null,
   "metadata": {
    "ExecuteTime": {
     "end_time": "2021-12-08T11:22:03.204824Z",
     "start_time": "2021-12-08T11:22:03.017356Z"
    },
    "execution": {
     "iopub.execute_input": "2023-12-07T14:59:25.124779Z",
     "iopub.status.busy": "2023-12-07T14:59:25.124402Z",
     "iopub.status.idle": "2023-12-07T14:59:25.717870Z",
     "shell.execute_reply": "2023-12-07T14:59:25.716778Z",
     "shell.execute_reply.started": "2023-12-07T14:59:25.124751Z"
    },
    "scrolled": true,
    "trusted": true
   },
   "outputs": [],
   "source": [
    "# Generate data\n",
    "iris = sns.load_dataset(\"iris\")\n",
    "setosa = iris.query(\"species == 'setosa'\")\n",
    "virginica = iris.query(\"species == 'virginica'\")\n",
    "\n",
    "sns.set(style=\"darkgrid\")\n",
    "# \"Break up\" the chart object to two variables, ax is related to our data series.\n",
    "f, ax = plt.subplots(1, 1, figsize=(6, 4))\n",
    "# Make sure that both series have the same scaling\n",
    "ax.set_aspect(\"equal\")\n",
    "\n",
    "#Add further series. Do not shade the lowest level.\n",
    "# ax = sns.kdeplot(setosa.sepal_width, setosa.sepal_length,\n",
    "#                 cmap=\"Reds\", shade=True, shade_lowest=False)\n",
    "# ax = sns.kdeplot(virginica.sepal_width, virginica.sepal_length,\n",
    "#                 cmap=\"Blues\", shade=True, shade_lowest=False)\n",
    "\n",
    "# Ensure same scaling for both series\n",
    "ax.set_aspect(\"equal\")\n",
    "\n",
    "# Plotting KDE plots with the updated syntax\n",
    "sns.kdeplot(x=setosa.sepal_width, y=setosa.sepal_length,\n",
    "            cmap=\"Reds\", shade=True, shade_lowest=False,ax=ax)\n",
    "sns.kdeplot(x=virginica.sepal_width, y=virginica.sepal_length,\n",
    "            cmap=\"Blues\", shade=True, shade_lowest=False, ax=ax)\n",
    "\n",
    "\n",
    "# Add text in chosen places.\n",
    "red = sns.color_palette(\"Reds\")[-2]\n",
    "blue = sns.color_palette(\"Blues\")[-2]\n",
    "ax.text(2.5, 8.2, \"virginica\", size=12, color=blue)\n",
    "ax.text(3.8, 4.5, \"setosa\", size=12, color=red)\n",
    "plt.show()"
   ]
  },
  {
   "cell_type": "markdown",
   "metadata": {},
   "source": [
    "## Violin charts and boxplot\n",
    "Violin charts are quite popular recently. See two Seaborn examples. They are essentially classic boxplots extended by estimated KDF. The first example shows how to draw multiple distributions in an attractive way. Note that every violin chart is symmetric. It seems to be wasted potential. The second example uses split option, which allows to draw each half differently for two subgroups."
   ]
  },
  {
   "cell_type": "code",
   "execution_count": null,
   "metadata": {
    "ExecuteTime": {
     "end_time": "2021-12-08T11:23:00.142300Z",
     "start_time": "2021-12-08T11:22:59.945668Z"
    },
    "execution": {
     "iopub.execute_input": "2023-12-07T15:07:05.615139Z",
     "iopub.status.busy": "2023-12-07T15:07:05.613783Z",
     "iopub.status.idle": "2023-12-07T15:07:08.552979Z",
     "shell.execute_reply": "2023-12-07T15:07:08.551695Z",
     "shell.execute_reply.started": "2023-12-07T15:07:05.615088Z"
    },
    "trusted": true
   },
   "outputs": [],
   "source": [
    "sns.set(style=\"whitegrid\")\n",
    "\n",
    "# Load the example dataset of brain network correlations\n",
    "df = sns.load_dataset(\"brain_networks\", header=[0, 1, 2], index_col=0)\n",
    "\n",
    "# Pull out a specific subset of networks\n",
    "used_networks = [1, 3, 4, 5, 6, 7, 8, 11, 12, 13, 16, 17]\n",
    "used_columns = (df.columns.get_level_values(\"network\")\n",
    "                          .astype(int)\n",
    "                          .isin(used_networks))\n",
    "df = df.loc[:, used_columns]\n",
    "\n",
    "# Compute the correlation matrix and average over networks\n",
    "corr_df = df.corr().groupby(level=\"network\").mean()\n",
    "corr_df.index = corr_df.index.astype(int)\n",
    "corr_df = corr_df.sort_index().T\n",
    "\n",
    "# Set up the matplotlib figure\n",
    "f, ax = plt.subplots(figsize=(10, 5))\n",
    "\n",
    "# Draw a violinplot with a narrower bandwidth than the default\n",
    "sns.violinplot(data=corr_df, palette=\"viridis\", bw=.2, cut=1, linewidth=1, ax=ax)\n",
    "\n",
    "# Finalize the figure\n",
    "ax.set(ylim=(-.7, 1.05))\n",
    "sns.despine(left=True, bottom=True)"
   ]
  },
  {
   "cell_type": "code",
   "execution_count": null,
   "metadata": {
    "ExecuteTime": {
     "end_time": "2021-12-08T11:23:51.734543Z",
     "start_time": "2021-12-08T11:23:51.594036Z"
    },
    "execution": {
     "iopub.execute_input": "2023-12-07T15:07:47.582669Z",
     "iopub.status.busy": "2023-12-07T15:07:47.580873Z",
     "iopub.status.idle": "2023-12-07T15:07:48.885517Z",
     "shell.execute_reply": "2023-12-07T15:07:48.884361Z",
     "shell.execute_reply.started": "2023-12-07T15:07:47.582586Z"
    },
    "trusted": true
   },
   "outputs": [],
   "source": [
    "sns.set(style=\"whitegrid\", palette=\"pastel\", color_codes=True)\n",
    "\n",
    "# Load the example tips dataset\n",
    "tips = sns.load_dataset(\"tips\")\n",
    "plt.figure(figsize=(8.0, 4))\n",
    "# Draw a nested violinplot and split the violins for easier comparison\n",
    "sns.violinplot(x=\"day\", y=\"total_bill\", hue=\"sex\", data=tips, split=True,\n",
    "               inner=\"quart\", palette={\"Male\": \"b\", \"Female\": \"y\"})\n",
    "sns.despine(left=True)"
   ]
  },
  {
   "cell_type": "markdown",
   "metadata": {},
   "source": [
    "Of course, the classic boxplot is also available."
   ]
  },
  {
   "cell_type": "code",
   "execution_count": null,
   "metadata": {
    "ExecuteTime": {
     "end_time": "2021-12-08T10:32:56.793370Z",
     "start_time": "2021-12-08T10:32:55.696960Z"
    },
    "execution": {
     "iopub.execute_input": "2023-12-07T15:11:29.444431Z",
     "iopub.status.busy": "2023-12-07T15:11:29.443821Z",
     "iopub.status.idle": "2023-12-07T15:11:31.767971Z",
     "shell.execute_reply": "2023-12-07T15:11:31.766848Z",
     "shell.execute_reply.started": "2023-12-07T15:11:29.444390Z"
    },
    "trusted": true
   },
   "outputs": [],
   "source": [
    "sns.set(style=\"ticks\", palette=\"muted\", color_codes=True)\n",
    "\n",
    "# Load the example planets dataset\n",
    "planets = sns.load_dataset(\"planets\")\n",
    "\n",
    "plt.figure(figsize=(10.0, 6))\n",
    "# Plot the orbital period with horizontal boxes\n",
    "ax = sns.boxplot(x=\"distance\", y=\"method\", data=planets,\n",
    "                 whis=np.inf, color=\"c\")\n",
    "\n",
    "# Add in points to show each observation\n",
    "sns.stripplot(x=\"distance\", y=\"method\", data=planets,\n",
    "              jitter=True, size=3, color=\".3\", linewidth=0)\n",
    "\n",
    "\n",
    "# Make the quantitative axis logarithmic\n",
    "ax.set_xscale(\"log\")\n",
    "sns.despine(trim=True)"
   ]
  },
  {
   "cell_type": "markdown",
   "metadata": {},
   "source": [
    "## Additional settings\n",
    "Seaborn is perfect to create charts quickly and it is usually fine not to change a lot of settings. However, if you feel like it, you may adjust the chart for your particular needs.\n",
    "* http://seaborn.pydata.org/tutorial/aesthetics.html\n",
    "* http://seaborn.pydata.org/tutorial/color_palettes.html"
   ]
  },
  {
   "cell_type": "code",
   "execution_count": null,
   "metadata": {},
   "outputs": [],
   "source": []
  },
  {
   "cell_type": "markdown",
   "metadata": {},
   "source": [
    "## Plotly examples\n",
    "\n",
    "Lets have a look at some interesting plotly examples. More can be found here: https://plotly.com/python/basic-charts/"
   ]
  },
  {
   "cell_type": "code",
   "execution_count": null,
   "metadata": {},
   "outputs": [],
   "source": [
    "#!pip install plotly==5.24.1"
   ]
  },
  {
   "cell_type": "code",
   "execution_count": null,
   "metadata": {},
   "outputs": [],
   "source": [
    "import plotly.express as px\n",
    "df = px.data.iris()\n",
    "fig = px.scatter(df, x=\"sepal_width\", y=\"sepal_length\", color=\"species\",\n",
    "                 size='petal_length', hover_data=['petal_width'])\n",
    "fig.show(renderer='iframe')"
   ]
  },
  {
   "cell_type": "code",
   "execution_count": null,
   "metadata": {},
   "outputs": [],
   "source": [
    "\n",
    "df = px.data.tips()\n",
    "fig = px.sunburst(df, path=['sex', 'day', 'time'], values='total_bill', color='time')\n",
    "fig.show(renderer='iframe')"
   ]
  },
  {
   "cell_type": "code",
   "execution_count": null,
   "metadata": {},
   "outputs": [],
   "source": [
    "df = pd.read_csv('https://raw.githubusercontent.com/plotly/datasets/master/earthquakes-23k.csv')\n",
    "\n",
    "fig = px.density_mapbox(df, lat='Latitude', lon='Longitude', z='Magnitude', radius=10,\n",
    "                        center=dict(lat=0, lon=180), zoom=0,\n",
    "                        mapbox_style=\"open-street-map\")\n",
    "fig.show(renderer='iframe')"
   ]
  }
 ],
 "metadata": {
  "kaggle": {
   "accelerator": "none",
   "dataSources": [],
   "dockerImageVersionId": 30587,
   "isGpuEnabled": false,
   "isInternetEnabled": true,
   "language": "python",
   "sourceType": "notebook"
  },
  "kernelspec": {
   "display_name": "Python 3",
   "language": "python",
   "name": "python3"
  },
  "language_info": {
   "codemirror_mode": {
    "name": "ipython",
    "version": 3
   },
   "file_extension": ".py",
   "mimetype": "text/x-python",
   "name": "python",
   "nbconvert_exporter": "python",
   "pygments_lexer": "ipython3",
   "version": "3.10.12"
  }
 },
 "nbformat": 4,
 "nbformat_minor": 4
}
