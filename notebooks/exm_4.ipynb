{
 "cells": [
  {
   "cell_type": "markdown",
   "metadata": {},
   "source": [
    "## Intro to Python and SQL Test - Group 4.\n",
    "\n",
    "Instructions:\n",
    "\n",
    "1. Set up Jupyter Notebook for this project using Kaggle, Google Colab or locally. Each point below should be in a separate cell.\n",
    "2. Load up the data file from `wather_data.db` and convert it to a dataframe (file is in data folder on our repo).\n",
    "3. Draw random variables between 0 and 4, where the sample size is equal to the number of obeservations in the Temperature column.\n",
    "4. Create new column in the df called temp_add. Add these random variables to this column, show first 25.\n",
    "5. Create a new column called temp_increased when you add values from temperature column and temp_add column.\n",
    "6. Display descriptive statistics of temperature column and temperature increased column.\n",
    "7. Analyze these values and comment on them using markdown (compare mean values, check the range, compare standard deviation and variance).\n",
    "8. Change the Date column to be an index of a dataframe.\n",
    "10. List months with an average temperature higher than 23.\n",
    "11. Export the data as CSV file. Then load the file and display the contents.\n",
    "12. Calculate the mean temperature for each month for temperature column and temp increased column. Plot both using seaborn.\n",
    "13. In markdown, shortly explain the function you used in pt 11 and its parameters.\n",
    "14. Create a simple streamlit app which shows the original data, the mean data, and the plot. If you're on Kaggle on Colab just write code for this, don't run it.\n",
    "15. Send the notebook, the csv file and screenshot of the streamlit app (if you run it locally) to j.michankow@uw.edu.pl"
   ]
  }
 ],
 "metadata": {
  "language_info": {
   "name": "python"
  }
 },
 "nbformat": 4,
 "nbformat_minor": 2
}
