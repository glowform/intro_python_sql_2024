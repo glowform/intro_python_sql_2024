{
 "cells": [
  {
   "cell_type": "markdown",
   "metadata": {},
   "source": [
    "# Basics of programming in Python\n",
    "## Memory and memory addressing\n",
    "For an analyst Python is an excellent programming language, partly because of its efficiency. Because we are efficiency-oriented, we have to undestand at least the basics of memory management and addressing in programming, especially in Python. Understanding of this issue is important not only for our programs' running time, but first of all - their correctness. This notebook presents slightly simplified and hopefully clear explanations.\n",
    "\n",
    "Effective memory management is crucial because of two reasons: **memory is slow**, and in the age of large datasets **memory is valuable**. Because of these reasons we will avoid copying objects and rewriting them in a different place by all means. You may think that RAM is \"fast\", because it is much faster than HDD and even SSD. But it is much slower than contemporary CPUs (this is why CPU cache exists, link below). We will avoid copying, reading and writing because of our programs' efficiency.\n",
    "\n",
    "Every object which is stored in memory, no matter its size, has its own address. It is true both for small (single int) and large (enormous dataset for analysis) objects. Objects' addresses are always \"small\", even if object itself is very large. This is why it is much easier to pass information about object's address than pass the whole object - create a copy of it in the memory.\n",
    "\n",
    "Look at a simple example:"
   ]
  },
  {
   "cell_type": "code",
   "execution_count": null,
   "metadata": {},
   "outputs": [],
   "source": [
    "a = 3\n",
    "b = a\n",
    "print(a, b)\n",
    "b = 4\n",
    "print(a, b)"
   ]
  },
  {
   "cell_type": "markdown",
   "metadata": {},
   "source": [
    "As you can see, for a number, assignment operator \"=\" copies an object. How does this operator behave for a list?"
   ]
  },
  {
   "cell_type": "code",
   "execution_count": null,
   "metadata": {},
   "outputs": [],
   "source": [
    "colors = [\"red\", \"blue\", \"green\"]\n",
    "colors2 = colors\n",
    "colors2.append(\"black\")\n",
    "print(colors)"
   ]
  },
  {
   "cell_type": "markdown",
   "metadata": {},
   "source": [
    "After creating colors2 variable you could expect a copied object. It seems that appending \"black\" to colors2 should not have any effect on colors. However, for an object of type list operator \"=\" copies address (reference/alias) to an object. After a line:\n",
    "\n",
    "colors2 = colors\n",
    "\n",
    "both colors and colors2 variables contain the address of the same list. You could think about it as writing the address of a building on two different sheets of paper. If you append \"black\" to a list with a given address (second sheet of paper - colors2), when returning to the same address (read from the first sheet of paper - colors), you will see the only list (the same building) which exists in memory.\n",
    "\n",
    "Go back to the previous example and try to understand what happens there. This example perfectly shows that you may cause errors which are difficult for debugging, if you write code without understanding references."
   ]
  },
  {
   "cell_type": "code",
   "execution_count": null,
   "metadata": {},
   "outputs": [],
   "source": [
    "colors = [\"red\", \"blue\", \"green\"]\n",
    "numbers = [4, 5, 6]\n",
    "\n",
    "mixedList1 = colors\n",
    "mixedList1.append(numbers)\n",
    "print(mixedList1)\n",
    "\n",
    "mixedList2 = []\n",
    "mixedList2.append(colors)\n",
    "mixedList2.append(numbers)\n",
    "print(mixedList2)"
   ]
  },
  {
   "cell_type": "markdown",
   "metadata": {},
   "source": [
    "If you write *mixedList1 = colors* instead of *mixedList1 = list(colors)*, variable mixedList1 is not the address of a copy, but only a new address of the old object. This is why when writing:\n",
    "\n",
    "mixedList2.append(colors)\n",
    "\n",
    "you append to the first place of a new list a mixed list (earlier, you have modified the list which had had the \"address\" colors)\n",
    "\n",
    "See the correct code, which shows two ways to create a new object (a copy):"
   ]
  },
  {
   "cell_type": "code",
   "execution_count": null,
   "metadata": {},
   "outputs": [],
   "source": [
    "colors = [\"red\", \"blue\", \"green\"]\n",
    "numbers = [4, 5, 6]\n",
    "\n",
    "mixedList1 = list(colors)\n",
    "# or\n",
    "mixedList1 = colors.copy()\n",
    "\n",
    "mixedList1.append(numbers)\n",
    "print(mixedList1)\n",
    "\n",
    "mixedList2 = []\n",
    "mixedList2.append(colors)\n",
    "mixedList2.append(numbers)\n",
    "print(mixedList2)"
   ]
  },
  {
   "cell_type": "markdown",
   "metadata": {},
   "source": [
    "* Introduction of 64-bit CPUs is directly connected with memory addressing: https://www.youtube.com/watch?v=KgiMzKb8dD0\n",
    "* For the curious, how important are levels of cache:\n",
    "https://www.extremetech.com/extreme/188776-how-l1-and-l2-cpu-caches-work-and-why-theyre-an-essential-part-of-modern-chips\n",
    "* For the very curious, how CPU works on the low level:\n",
    "https://www.youtube.com/watch?v=cNN_tTXABUA\n",
    "* If you are deeply interested in programming, you should understand the difference between objects, references and pointers."
   ]
  },
  {
   "cell_type": "markdown",
   "metadata": {},
   "source": [
    "## Flow control\n",
    "\n",
    "### For, ranges and iterators\n",
    "There is an easy way to create ranges of numbers in Python. See a few examples using \"for\" and iterator \"range\":"
   ]
  },
  {
   "cell_type": "code",
   "execution_count": null,
   "metadata": {},
   "outputs": [],
   "source": [
    "# If you want to simply print a range of numbers, you will see a \"strange\" result:\n",
    "print(range(4))\n",
    "# Output \"range(0,4)\" tells you what has been created.\n",
    "# It does not tell you about all the elements it can show.\n",
    "print(\"Print all elements in range(4): \")\n",
    "for i in range(4):\n",
    "    print(i)\n",
    "# See two other examples:\n",
    "print(\"Print all elements in range(2, 10, 2): \")\n",
    "for i in range(2, 10, 2):\n",
    "    print(i)\n",
    "\n",
    "print(\"Print all elements in range(0, -11, -3): \")\n",
    "for i in range(0, -11, -3):\n",
    "    print(i)"
   ]
  },
  {
   "cell_type": "markdown",
   "metadata": {},
   "source": [
    "Iterators allow you to traverse a container (e.g. a list), when you want to see what each element contains."
   ]
  },
  {
   "cell_type": "code",
   "execution_count": null,
   "metadata": {},
   "outputs": [],
   "source": [
    "colors = [\"red\", \"blue\", \"green\"]\n",
    "for color in colors:\n",
    "    print(color)"
   ]
  },
  {
   "cell_type": "markdown",
   "metadata": {},
   "source": [
    "If you try to do a similar thing for dictionaries, the iterator returns two-element tuples containing pairs from the dictionary. In practice it is not very convenient.\n",
    "\n",
    "If you do not want to return a tuple, but two variables instead, you can use automatic unzipping of tuples. As you can see below, if you pass a number of arguments equal to the length of a single tuple, Python unzipped them."
   ]
  },
  {
   "cell_type": "code",
   "execution_count": null,
   "metadata": {},
   "outputs": [],
   "source": [
    "author = {'name': 'Maciej', 'surname': 'Wilamowski', 'age': 32}\n",
    "for element in author.items():\n",
    "    print(element)\n",
    "print(\"\\nUnzipped tuples: \")\n",
    "for key, value in author.items():\n",
    "    print(key, value)"
   ]
  },
  {
   "cell_type": "markdown",
   "metadata": {},
   "source": [
    "### Enumerate\n",
    "In some cases you may not only need information about list's elements' content, but also about their indices. enumerate(), a counting iterator, is used for this purpose:"
   ]
  },
  {
   "cell_type": "code",
   "execution_count": null,
   "metadata": {},
   "outputs": [],
   "source": [
    "for i, color in enumerate(colors):\n",
    "    print(i, color)"
   ]
  },
  {
   "cell_type": "markdown",
   "metadata": {},
   "source": [
    "### Zip\n",
    "Sometimes you may have two lists, over which you want to iterate simultaneously. zip() joins the lists and retuns their elements as a tuple. Number of elements returned by zip() is equal to length of the shortest list."
   ]
  },
  {
   "cell_type": "code",
   "execution_count": null,
   "metadata": {},
   "outputs": [],
   "source": [
    "colors = [\"red\", \"blue\", \"green\"]\n",
    "numbers = [4, 5, 6, 7]\n",
    "names = [\"Matt\", \"Ben\", \"John\", \"Adam\", \"Jim\"]\n",
    "\n",
    "for color, number in zip(colors,numbers):\n",
    "    print(color, number)\n",
    "\n",
    "print(\"\\nZip for 3 elements\")\n",
    "for color, number, name in zip(colors,numbers,names):\n",
    "    print(color, number, name)"
   ]
  },
  {
   "cell_type": "markdown",
   "metadata": {},
   "source": [
    "### List Comprehensions\n",
    "Calling functions/operations on all list elements is used so often, that there is a special syntax/instruction for that (list comprehensions), which creates a list based on another existing list. This is a one-line for loop, which has the following syntax:\n",
    "\n",
    "[what_to_do(x) for x in some_list optional_logical_condition]\n",
    "\n",
    "For example:"
   ]
  },
  {
   "cell_type": "code",
   "execution_count": null,
   "metadata": {},
   "outputs": [],
   "source": [
    "list1 = list(range(5))\n",
    "print([x**2 for x in list1])\n",
    "# You could perform this operation only for even numbers.\n",
    "print([x**2 for x in list1 if x % 2 == 0])\n",
    "# The operation may have more than one argument.\n",
    "list2 = list(range(2, 12, 2))\n",
    "print([x * y for (x, y) in zip(list1, list2)])"
   ]
  },
  {
   "cell_type": "markdown",
   "metadata": {},
   "source": [
    "### If and while\n",
    "There are two more basic flow control tools: if and while. Their implementation is fully analogous to other programming languages."
   ]
  },
  {
   "cell_type": "code",
   "execution_count": null,
   "metadata": {},
   "outputs": [],
   "source": [
    "x = 3\n",
    "if x < 2:\n",
    "    print(\"Value below 2\")\n",
    "elif x > 10:\n",
    "    print(\"Value above 10\")\n",
    "else:\n",
    "    print(\"Value between 2 and 10, inclusive\")"
   ]
  },
  {
   "cell_type": "code",
   "execution_count": null,
   "metadata": {},
   "outputs": [],
   "source": [
    "import math\n",
    "# Description of other functions available in math module.\n",
    "# https://docs.python.org/3/library/math.html\n",
    "math.pow(2, 3)\n",
    "tol = 0.1\n",
    "diff = 1\n",
    "k = 1\n",
    "while(diff > tol):\n",
    "    diff = math.e - abs(math.pow((1 + 1 / k), k))\n",
    "    print(k, math.pow((1 + 1 / k), k), diff)\n",
    "    k += 1"
   ]
  },
  {
   "cell_type": "markdown",
   "metadata": {},
   "source": [
    "### Continue\n",
    "Sometimes you may want to skip a loop iteration. You could use continue statement for that. For example:"
   ]
  },
  {
   "cell_type": "code",
   "execution_count": null,
   "metadata": {},
   "outputs": [],
   "source": [
    "for i in range(11):\n",
    "    if i % 3 == 0:\n",
    "        continue\n",
    "    else:\n",
    "        print(i)"
   ]
  },
  {
   "cell_type": "markdown",
   "metadata": {},
   "source": [
    "### Break\n",
    "A loop (for and while) may be stopped using break statement."
   ]
  },
  {
   "cell_type": "code",
   "execution_count": null,
   "metadata": {},
   "outputs": [],
   "source": [
    "import math\n",
    "# Description of other functions available in math module.\n",
    "# https://docs.python.org/3/library/math.html\n",
    "math.pow(2, 3)\n",
    "tol = 0\n",
    "diff = 1\n",
    "k = 1\n",
    "while(diff > tol):\n",
    "    diff = math.e - abs(math.pow((1 + 1 / k), k))\n",
    "    print(k, math.pow((1 + 1 / k), k), diff)\n",
    "    k += 1\n",
    "    if k > 15:\n",
    "        print(\"Value of tol (tolerance) is probably wrong... break.\")\n",
    "        break"
   ]
  },
  {
   "cell_type": "markdown",
   "metadata": {},
   "source": [
    "## Error handling\n",
    "When you use Python for data analysis you may experience errors relatively often. The simplest examples are missing values or dividing by 0. You often do not want to stop the whole program because of that.\n",
    "\n",
    "In the code below the program returns an error in the third line and does not execute the fourth (you may check it by running the next cell)."
   ]
  },
  {
   "cell_type": "code",
   "execution_count": null,
   "metadata": {},
   "outputs": [],
   "source": [
    "a = 0\n",
    "b = 4\n",
    "c = b / a\n",
    "d = a + b"
   ]
  },
  {
   "cell_type": "code",
   "execution_count": null,
   "metadata": {},
   "outputs": [],
   "source": [
    "d"
   ]
  },
  {
   "cell_type": "code",
   "execution_count": null,
   "metadata": {},
   "outputs": [],
   "source": [
    "a = 0\n",
    "b = 4\n",
    "try:\n",
    "    c = b / a\n",
    "# In the case of division, the only error you may expect is:\n",
    "except ZeroDivisionError as e:\n",
    "    print(\"You tried to divide by zero!\")\n",
    "    c = b * float('inf')\n",
    "# You do not really expect an exception here.\n",
    "d = a + b\n",
    "print (c, d)"
   ]
  },
  {
   "cell_type": "markdown",
   "metadata": {},
   "source": [
    "Because you want to know how to handle a given error (know what to do when it happens, for example assign \"inf\") you should not catch all exceptions (in the cell below, the last statement will not run). However in some cases, especially during writing or testing code catching all exceptions may be useful."
   ]
  },
  {
   "cell_type": "code",
   "execution_count": null,
   "metadata": {},
   "outputs": [],
   "source": [
    "a = 0\n",
    "b = 4\n",
    "try:\n",
    "    f = b / a\n",
    "except Exception as e:\n",
    "    print (e.__doc__)\n",
    "    \n",
    "g = a + b\n",
    "print (f, g)"
   ]
  },
  {
   "cell_type": "markdown",
   "metadata": {},
   "source": [
    "This is why you may want to find the error, run additional code (e.g. logging), and then stop the script regardless."
   ]
  },
  {
   "cell_type": "code",
   "execution_count": null,
   "metadata": {},
   "outputs": [],
   "source": [
    "a = 0\n",
    "b = 4\n",
    "try:\n",
    "    f = b / a\n",
    "except Exception as e:\n",
    "    print (e.__doc__)\n",
    "    print (\"Error, stopping the script.\")\n",
    "    raise \n",
    "    \n",
    "g = a + b\n",
    "print (f, g)"
   ]
  },
  {
   "cell_type": "markdown",
   "metadata": {},
   "source": [
    "In practice error handling may be more advanced. Now you do not need to know anything more. For the curious, read the following links:\n",
    "* https://docs.python.org/3/tutorial/errors.html\n",
    "* https://jeffknupp.com/blog/2013/02/06/write-cleaner-python-use-exceptions/\n",
    "* http://www.pythonforbeginners.com/error-handling/exception-handling-in-python\n",
    "* http://eli.thegreenplace.net/2008/08/21/robust-exception-handling/"
   ]
  },
  {
   "cell_type": "code",
   "execution_count": null,
   "metadata": {
    "collapsed": true
   },
   "outputs": [],
   "source": []
  }
 ],
 "metadata": {
  "kernelspec": {
   "display_name": "Python 3",
   "language": "python",
   "name": "python3"
  },
  "language_info": {
   "codemirror_mode": {
    "name": "ipython",
    "version": 3
   },
   "file_extension": ".py",
   "mimetype": "text/x-python",
   "name": "python",
   "nbconvert_exporter": "python",
   "pygments_lexer": "ipython3",
   "version": "3.6.2"
  }
 },
 "nbformat": 4,
 "nbformat_minor": 2
}
