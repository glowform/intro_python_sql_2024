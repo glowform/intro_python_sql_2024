{
 "cells": [
  {
   "cell_type": "markdown",
   "metadata": {},
   "source": [
    "## Intro to Python and SQL Test - Group 1.\n",
    "\n",
    "Instructions:\n",
    "\n",
    "1. Set up jupyter notebook for this project using Kaggle, Google Colab or locally. Each point below should be in a separate cell.\n",
    "2. Load up the data file `wather_data.csv` as a dataframe (file is in data folder on our repo).\n",
    "3. Draw random variables between 0 and 3, where the sample size is equal to the number of obeservations in the Temperature column.\n",
    "4. In markdown, shortly explain the function you used for pt 3 and it's parameters.\n",
    "5. Create new column in the df called temp_add. Add these random variables to this column, show first 20.\n",
    "6. Create a new column called temp_increased when you add values from temperature column and temp_add column.\n",
    "7. Display descriptive statistics of temperature column and temperature increased column.\n",
    "8. Analyze these values and comment on them using markdown (compare mean values, check the range, compare standard deviation and variance).\n",
    "9. Change the Date column to be an index of a dataframe.\n",
    "10. List months with an average temperature higher than 20.\n",
    "11. Export the data as SQLite database file. Then load the file and display the contents of the database.\n",
    "12. Calculate the mean temperature for each month for temperature column and temp increased column. Plot both using plotly.\n",
    "13. Create a simple streamlit app which shows the original data, the mean data, and the plot.\n",
    "14. Send the notebook, the database file and screenshot of the streamlit app to j.michankow@uw.edu.pl"
   ]
  }
 ],
 "metadata": {
  "language_info": {
   "name": "python"
  }
 },
 "nbformat": 4,
 "nbformat_minor": 2
}
